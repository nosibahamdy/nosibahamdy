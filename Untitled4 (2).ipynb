{
 "cells": [
  {
   "cell_type": "code",
   "execution_count": 1,
   "id": "2a403338-f29b-4722-b417-a650f585f627",
   "metadata": {},
   "outputs": [],
   "source": [
    "import pandas as pd\n",
    "import numpy as np"
   ]
  },
  {
   "cell_type": "code",
   "execution_count": 2,
   "id": "1a90c2e9-2222-4845-887b-472391f4ba55",
   "metadata": {},
   "outputs": [],
   "source": [
    "import re"
   ]
  },
  {
   "cell_type": "code",
   "execution_count": 3,
   "id": "2a147626-9855-481b-8303-b6e56cc10248",
   "metadata": {},
   "outputs": [],
   "source": [
    "df = pd.read_csv(r\"C:\\Users\\Administrator\\Downloads\\googleplaystore (1).csv\")"
   ]
  },
  {
   "cell_type": "code",
   "execution_count": 4,
   "id": "d391bed1-9934-46ab-8796-4b6a25ed1563",
   "metadata": {},
   "outputs": [
    {
     "data": {
      "text/html": [
       "<div>\n",
       "<style scoped>\n",
       "    .dataframe tbody tr th:only-of-type {\n",
       "        vertical-align: middle;\n",
       "    }\n",
       "\n",
       "    .dataframe tbody tr th {\n",
       "        vertical-align: top;\n",
       "    }\n",
       "\n",
       "    .dataframe thead th {\n",
       "        text-align: right;\n",
       "    }\n",
       "</style>\n",
       "<table border=\"1\" class=\"dataframe\">\n",
       "  <thead>\n",
       "    <tr style=\"text-align: right;\">\n",
       "      <th></th>\n",
       "      <th>App</th>\n",
       "      <th>Category</th>\n",
       "      <th>Rating</th>\n",
       "      <th>Reviews</th>\n",
       "      <th>Size</th>\n",
       "      <th>Installs</th>\n",
       "      <th>Type</th>\n",
       "      <th>Price</th>\n",
       "      <th>Content Rating</th>\n",
       "      <th>Genres</th>\n",
       "      <th>Last Updated</th>\n",
       "      <th>Current Ver</th>\n",
       "      <th>Android Ver</th>\n",
       "    </tr>\n",
       "  </thead>\n",
       "  <tbody>\n",
       "    <tr>\n",
       "      <th>0</th>\n",
       "      <td>Photo Editor &amp; Candy Camera &amp; Grid &amp; ScrapBook</td>\n",
       "      <td>ART_AND_DESIGN</td>\n",
       "      <td>4.1</td>\n",
       "      <td>159</td>\n",
       "      <td>19M</td>\n",
       "      <td>10,000+</td>\n",
       "      <td>Free</td>\n",
       "      <td>0</td>\n",
       "      <td>Everyone</td>\n",
       "      <td>Art &amp; Design</td>\n",
       "      <td>January 7, 2018</td>\n",
       "      <td>1.0.0</td>\n",
       "      <td>4.0.3 and up</td>\n",
       "    </tr>\n",
       "    <tr>\n",
       "      <th>1</th>\n",
       "      <td>Coloring book moana</td>\n",
       "      <td>ART_AND_DESIGN</td>\n",
       "      <td>3.9</td>\n",
       "      <td>967</td>\n",
       "      <td>14M</td>\n",
       "      <td>500,000+</td>\n",
       "      <td>Free</td>\n",
       "      <td>0</td>\n",
       "      <td>Everyone</td>\n",
       "      <td>Art &amp; Design;Pretend Play</td>\n",
       "      <td>January 15, 2018</td>\n",
       "      <td>2.0.0</td>\n",
       "      <td>4.0.3 and up</td>\n",
       "    </tr>\n",
       "    <tr>\n",
       "      <th>2</th>\n",
       "      <td>U Launcher Lite – FREE Live Cool Themes, Hide ...</td>\n",
       "      <td>ART_AND_DESIGN</td>\n",
       "      <td>4.7</td>\n",
       "      <td>87510</td>\n",
       "      <td>8.7M</td>\n",
       "      <td>5,000,000+</td>\n",
       "      <td>Free</td>\n",
       "      <td>0</td>\n",
       "      <td>Everyone</td>\n",
       "      <td>Art &amp; Design</td>\n",
       "      <td>August 1, 2018</td>\n",
       "      <td>1.2.4</td>\n",
       "      <td>4.0.3 and up</td>\n",
       "    </tr>\n",
       "    <tr>\n",
       "      <th>3</th>\n",
       "      <td>Sketch - Draw &amp; Paint</td>\n",
       "      <td>ART_AND_DESIGN</td>\n",
       "      <td>4.5</td>\n",
       "      <td>215644</td>\n",
       "      <td>25M</td>\n",
       "      <td>50,000,000+</td>\n",
       "      <td>Free</td>\n",
       "      <td>0</td>\n",
       "      <td>Teen</td>\n",
       "      <td>Art &amp; Design</td>\n",
       "      <td>June 8, 2018</td>\n",
       "      <td>Varies with device</td>\n",
       "      <td>4.2 and up</td>\n",
       "    </tr>\n",
       "    <tr>\n",
       "      <th>4</th>\n",
       "      <td>Pixel Draw - Number Art Coloring Book</td>\n",
       "      <td>ART_AND_DESIGN</td>\n",
       "      <td>4.3</td>\n",
       "      <td>967</td>\n",
       "      <td>2.8M</td>\n",
       "      <td>100,000+</td>\n",
       "      <td>Free</td>\n",
       "      <td>0</td>\n",
       "      <td>Everyone</td>\n",
       "      <td>Art &amp; Design;Creativity</td>\n",
       "      <td>June 20, 2018</td>\n",
       "      <td>1.1</td>\n",
       "      <td>4.4 and up</td>\n",
       "    </tr>\n",
       "  </tbody>\n",
       "</table>\n",
       "</div>"
      ],
      "text/plain": [
       "                                                 App        Category  Rating  \\\n",
       "0     Photo Editor & Candy Camera & Grid & ScrapBook  ART_AND_DESIGN     4.1   \n",
       "1                                Coloring book moana  ART_AND_DESIGN     3.9   \n",
       "2  U Launcher Lite – FREE Live Cool Themes, Hide ...  ART_AND_DESIGN     4.7   \n",
       "3                              Sketch - Draw & Paint  ART_AND_DESIGN     4.5   \n",
       "4              Pixel Draw - Number Art Coloring Book  ART_AND_DESIGN     4.3   \n",
       "\n",
       "  Reviews  Size     Installs  Type Price Content Rating  \\\n",
       "0     159   19M      10,000+  Free     0       Everyone   \n",
       "1     967   14M     500,000+  Free     0       Everyone   \n",
       "2   87510  8.7M   5,000,000+  Free     0       Everyone   \n",
       "3  215644   25M  50,000,000+  Free     0           Teen   \n",
       "4     967  2.8M     100,000+  Free     0       Everyone   \n",
       "\n",
       "                      Genres      Last Updated         Current Ver  \\\n",
       "0               Art & Design   January 7, 2018               1.0.0   \n",
       "1  Art & Design;Pretend Play  January 15, 2018               2.0.0   \n",
       "2               Art & Design    August 1, 2018               1.2.4   \n",
       "3               Art & Design      June 8, 2018  Varies with device   \n",
       "4    Art & Design;Creativity     June 20, 2018                 1.1   \n",
       "\n",
       "    Android Ver  \n",
       "0  4.0.3 and up  \n",
       "1  4.0.3 and up  \n",
       "2  4.0.3 and up  \n",
       "3    4.2 and up  \n",
       "4    4.4 and up  "
      ]
     },
     "execution_count": 4,
     "metadata": {},
     "output_type": "execute_result"
    }
   ],
   "source": [
    "df.head()"
   ]
  },
  {
   "cell_type": "markdown",
   "id": "e81feb1a-e0ae-4b0e-8a1a-86625177948d",
   "metadata": {},
   "source": [
    "**1-Understanding Columns**\n",
    "\n",
    "\n",
    "**App: This is the name of the application. It's important because it identifies what the app is and helps users find it in app stores.\n",
    "\r\n",
    "\r\n",
    "Category: This indicates the type of app (e.g., Games, Productivity, Social Media). The category helps users navigate and discover apps that fit their interests or need\n",
    "s.\r\n",
    "\r\n",
    "Rating: This is a score (usually out of 5) that reflects user satisfaction based on reviews. A higher rating can indicate better quality and user experience, influencing potential users’ decisi\n",
    "    ons.\r\n",
    "\r\n",
    "Reviews: This shows the total number of reviews submitted by users. A high number of reviews can suggest popularity and can also provide insights into the app's reliability and perfor\n",
    "mance.\r\n",
    "\r\n",
    "Size: This refers to the amount of storage space the app requires on a device. It's important for users to know, especially if they have limited storage c\n",
    "apacity.\r\n",
    "\r\n",
    "Installs: This indicates how many times the app has been downloaded. A high number of installs can be a sign of trust and popularity, making it more appealing to \n",
    "new users.\r\n",
    "\r\n",
    "Type: This specifies whether the app is free, paid, or offers in-app purchases. Understanding the type helps users know what financial commitment \n",
    "is involved.\r\n",
    "\r\n",
    "Price: This shows the cost of the app (if it’s paid). It’s crucial for users to assess whether the app fits\n",
    "                                                                   their budget.\r\n",
    "\r\n",
    "Content Rating: This indicates the age suitability of the app (e.g., Everyone, Teen, Mature). It helps users (especially parents) to choose appropriate apps for themselves or\n",
    "     their children.\r\n",
    "\r\n",
    "Genres: This provides further classification of the app based on its specific features or functionality (e.g., Action, Adventure, Educational). It helps users find apps that meet their s\n",
    "pecific interests.\r\n",
    "\r\n",
    "Last Updated: This shows the date when the app was last updated. Frequent updates can indicate that the app is actively maintained and improved, which is a \n",
    "                                                                                                                                                                     good sign for users.\r\n",
    "\r\n",
    "Current Version: This indicates the version number of the app currently available. Knowing the version can be important for troubleshooting or understanding if the app ha\n",
    "                                                                                                                                                                     s the latest features.\r\n",
    "\r\n",
    "Android Version: This specifies the minimum Android version required to run the app. It’s important for users to ensure compatibility with their devices.\n"
   ]
  },
  {
   "cell_type": "code",
   "execution_count": 6,
   "id": "fbc1d770-f2e4-417f-b386-7b5b4938fb81",
   "metadata": {},
   "outputs": [
    {
     "name": "stdout",
     "output_type": "stream",
     "text": [
      "<class 'pandas.core.frame.DataFrame'>\n",
      "RangeIndex: 10841 entries, 0 to 10840\n",
      "Data columns (total 13 columns):\n",
      " #   Column          Non-Null Count  Dtype  \n",
      "---  ------          --------------  -----  \n",
      " 0   App             10841 non-null  object \n",
      " 1   Category        10841 non-null  object \n",
      " 2   Rating          9367 non-null   float64\n",
      " 3   Reviews         10841 non-null  object \n",
      " 4   Size            10841 non-null  object \n",
      " 5   Installs        10841 non-null  object \n",
      " 6   Type            10840 non-null  object \n",
      " 7   Price           10841 non-null  object \n",
      " 8   Content Rating  10840 non-null  object \n",
      " 9   Genres          10841 non-null  object \n",
      " 10  Last Updated    10841 non-null  object \n",
      " 11  Current Ver     10833 non-null  object \n",
      " 12  Android Ver     10838 non-null  object \n",
      "dtypes: float64(1), object(12)\n",
      "memory usage: 1.1+ MB\n"
     ]
    }
   ],
   "source": [
    "df.info()"
   ]
  },
  {
   "cell_type": "markdown",
   "id": "d9b329ff-7c9d-4b45-8a81-2344189f3650",
   "metadata": {},
   "source": [
    "\n",
    "**problems\n",
    "\n",
    "1- reviews column suppose to be integer not object ==> Done\n",
    "\n",
    "2- size column suppose to be integer not object ==> Done\n",
    "\n",
    "3- installs column suppose to be integer not object ==> Done\n",
    "\n",
    "4- price column suppose to be integer not object ==> Done\n",
    "\n",
    "5- Current Ver column suppose to be float not object ==> Done\n",
    "\n",
    "6- Android Ver column suppose to be float not object ==> Done\n",
    "\n",
    "7- rating column has null values \n",
    "\n",
    "8- type column has one null value\n",
    "\n",
    "9- content rating has one null vlue\n",
    "\n",
    "10- current ver has null values\n",
    "\n",
    "11- Android ver has null values\n",
    "\n",
    "12- last update column need to be converted to date time ==> Done\n",
    "\n",
    "13- App column need to be categorical ==> Done\n",
    "\n",
    "14- category column need to be categorical ==> Done\n",
    "\n",
    "15- Type column need to be categorical ==> Done\n",
    "\n",
    "16- genere column need to be categorical ==> Done"
   ]
  },
  {
   "cell_type": "markdown",
   "id": "7a14d81a-083c-4cb7-a392-b643f2ee1372",
   "metadata": {},
   "source": [
    "**Data Cleaning"
   ]
  },
  {
   "cell_type": "code",
   "execution_count": 9,
   "id": "3f9e93c2-ec39-49db-b2f7-5ed70e82f440",
   "metadata": {},
   "outputs": [],
   "source": [
    "df['Reviews'] = pd.to_numeric(df['Reviews'], errors ='coerce')"
   ]
  },
  {
   "cell_type": "code",
   "execution_count": 10,
   "id": "b8743ea8-eac9-4622-aab5-1cbe6f0299a7",
   "metadata": {},
   "outputs": [],
   "source": [
    "df['Installs'] = df['Installs'].str.replace('+', '', regex=False)   \n",
    "df['Installs'] = df['Installs'].str.replace(',', '', regex=False) "
   ]
  },
  {
   "cell_type": "code",
   "execution_count": 11,
   "id": "22c6a46d-6c08-451e-b9fa-3b0546abd5c5",
   "metadata": {},
   "outputs": [],
   "source": [
    "df['Installs'] = pd.to_numeric(df['Installs'], errors ='coerce')"
   ]
  },
  {
   "cell_type": "code",
   "execution_count": 12,
   "id": "db9b3f37-0928-459b-8bc3-4c7953199f95",
   "metadata": {},
   "outputs": [],
   "source": [
    "df['Price'] = df['Price'].str.replace('$', '', regex=False)"
   ]
  },
  {
   "cell_type": "code",
   "execution_count": 13,
   "id": "7c408a21-6248-4cb6-9bbe-dc6b5a013989",
   "metadata": {},
   "outputs": [],
   "source": [
    "df['Price'] = pd.to_numeric(df['Price'], errors ='coerce')"
   ]
  },
  {
   "cell_type": "code",
   "execution_count": 14,
   "id": "f6b836c2-6e37-437e-b813-dd56eeaf1a23",
   "metadata": {},
   "outputs": [],
   "source": [
    "df['Android Ver'] = df['Android Ver'].str.replace(' and up', '', regex=False)"
   ]
  },
  {
   "cell_type": "code",
   "execution_count": 15,
   "id": "e5ca3aa1-299e-4c6c-890f-f4df3d122520",
   "metadata": {},
   "outputs": [],
   "source": [
    "df['Android Ver'] = df['Android Ver'].str.replace('W', '', regex=False)"
   ]
  },
  {
   "cell_type": "code",
   "execution_count": 16,
   "id": "5ec52e04-cc2e-4d0d-b028-fb064422f67c",
   "metadata": {},
   "outputs": [],
   "source": [
    "fixed = df['Android Ver'] = pd.to_numeric(df['Android Ver'], errors ='coerce')"
   ]
  },
  {
   "cell_type": "code",
   "execution_count": 17,
   "id": "cd6fdd0d-61e3-41cd-a8f2-58c3293aa5ed",
   "metadata": {},
   "outputs": [],
   "source": [
    "df['Android Ver']= fixed"
   ]
  },
  {
   "cell_type": "code",
   "execution_count": 18,
   "id": "95a11664-1b53-4cc2-8990-c5d3fcc4fbc6",
   "metadata": {},
   "outputs": [],
   "source": [
    "def convert_to_numeric(array):  \n",
    "    numeric_values = []  \n",
    "    for value in array:  \n",
    "        if 'M' in value:  \n",
    "            num_value = float(re.sub('[^0-9.]+', '', value)) * 1_000_000  \n",
    "        elif 'k' in value:  \n",
    "            num_value = float(re.sub('[^0-9.]+', '', value)) * 1_000  \n",
    "        elif value.strip().lower() == \"varies with device\":  \n",
    "            num_value = None   \n",
    "        elif value.strip() == '1,000+':  \n",
    "            num_value = 1_000  \n",
    "        else:  \n",
    "            num_value = float(value) \n",
    "        numeric_values.append(num_value)  \n",
    "\n",
    "    return np.array(numeric_values)"
   ]
  },
  {
   "cell_type": "code",
   "execution_count": 19,
   "id": "524b1278-22d3-472c-8d77-f3ea4b6d5fb1",
   "metadata": {},
   "outputs": [],
   "source": [
    "df['Size'] = convert_to_numeric(df['Size'])"
   ]
  },
  {
   "cell_type": "code",
   "execution_count": 20,
   "id": "c719520a-8114-4993-8d3f-a5e49a5895b5",
   "metadata": {},
   "outputs": [],
   "source": [
    "df['Size'] = pd.to_numeric(df['Size'], errors ='coerce')"
   ]
  },
  {
   "cell_type": "code",
   "execution_count": 21,
   "id": "24106da9-d15a-4a31-98de-8fac3c16133c",
   "metadata": {},
   "outputs": [],
   "source": [
    "def version_to_numeric(version):  \n",
    "    if isinstance(version, str):  \n",
    "        try:  \n",
    "            parts = list(map(int, version.split('.')))  \n",
    "            while len(parts) < 3:  \n",
    "                parts.append(0) \n",
    "            return parts[0] * 1_000_000 + parts[1] * 1_000 + parts[2]  \n",
    "        except ValueError:  \n",
    "             \n",
    "            return None  \n",
    "    else:  \n",
    "        return None    \n",
    "\n",
    " \n",
    "numeric_versions = df['Current Ver'].apply(version_to_numeric)  \n",
    "df['Current Ver'] = numeric_versions"
   ]
  },
  {
   "cell_type": "code",
   "execution_count": 22,
   "id": "7e2aaaa5-1231-4887-9425-1282882a3e6a",
   "metadata": {},
   "outputs": [
    {
     "name": "stdout",
     "output_type": "stream",
     "text": [
      "<class 'pandas.core.frame.DataFrame'>\n",
      "RangeIndex: 10841 entries, 0 to 10840\n",
      "Data columns (total 13 columns):\n",
      " #   Column          Non-Null Count  Dtype  \n",
      "---  ------          --------------  -----  \n",
      " 0   App             10841 non-null  object \n",
      " 1   Category        10841 non-null  object \n",
      " 2   Rating          9367 non-null   float64\n",
      " 3   Reviews         10840 non-null  float64\n",
      " 4   Size            9146 non-null   float64\n",
      " 5   Installs        10840 non-null  float64\n",
      " 6   Type            10840 non-null  object \n",
      " 7   Price           10840 non-null  float64\n",
      " 8   Content Rating  10840 non-null  object \n",
      " 9   Genres          10841 non-null  object \n",
      " 10  Last Updated    10841 non-null  object \n",
      " 11  Current Ver     8991 non-null   float64\n",
      " 12  Android Ver     7678 non-null   float64\n",
      "dtypes: float64(7), object(6)\n",
      "memory usage: 1.1+ MB\n"
     ]
    }
   ],
   "source": [
    "df.info()"
   ]
  },
  {
   "cell_type": "code",
   "execution_count": 23,
   "id": "a636c2f8-2e9d-4bcd-b390-ee7bf9447b7a",
   "metadata": {},
   "outputs": [
    {
     "name": "stdout",
     "output_type": "stream",
     "text": [
      "Content Rating\n",
      "Everyone           8714\n",
      "Teen               1208\n",
      "Mature 17+          499\n",
      "Everyone 10+        414\n",
      "Adults only 18+       3\n",
      "Unrated               2\n",
      "Unknown               1\n",
      "Name: count, dtype: int64\n"
     ]
    }
   ],
   "source": [
    "def preprocess_content_rating(rating):  \n",
    "    if isinstance(rating, str):  \n",
    "        return rating.strip()   \n",
    "    return None   \n",
    "\n",
    " \n",
    "df['Content Rating'] = df['Content Rating'].apply(preprocess_content_rating)  \n",
    " \n",
    "df.fillna({'Content Rating': 'Unknown'}, inplace=True)   \n",
    " \n",
    "df['Content Rating'] = df['Content Rating'].astype('category')  \n",
    "\n",
    "\n",
    "print(df['Content Rating'].value_counts())  "
   ]
  },
  {
   "cell_type": "code",
   "execution_count": 24,
   "id": "6f7439ee-584d-48cf-87e0-82955996dd6f",
   "metadata": {},
   "outputs": [],
   "source": [
    "df['App'] = df['App'].astype('category')"
   ]
  },
  {
   "cell_type": "code",
   "execution_count": 25,
   "id": "7be5f249-1138-4988-bf0f-3e7694ff36af",
   "metadata": {},
   "outputs": [],
   "source": [
    "df['Category'] = df['Category'].astype('category')"
   ]
  },
  {
   "cell_type": "code",
   "execution_count": 26,
   "id": "c8e16f7b-ed00-4157-9624-ab4ebe8da77a",
   "metadata": {},
   "outputs": [],
   "source": [
    "df['Type'] = df['Type'].astype('category')"
   ]
  },
  {
   "cell_type": "code",
   "execution_count": 27,
   "id": "4c485939-1b1a-4665-8400-c3153d521d60",
   "metadata": {},
   "outputs": [],
   "source": [
    "df['Genres'] = df['Genres'].astype('category')"
   ]
  },
  {
   "cell_type": "code",
   "execution_count": 28,
   "id": "d0eda00c-4e5c-4271-a941-d91c37c4d96e",
   "metadata": {},
   "outputs": [],
   "source": [
    "df['Last Updated'] = pd.to_datetime(df['Last Updated'], errors='coerce')  "
   ]
  },
  {
   "cell_type": "code",
   "execution_count": 29,
   "id": "dc2d5d56-53ab-4d43-a5a9-b26ce51e1fb7",
   "metadata": {},
   "outputs": [],
   "source": [
    "df['App'] = df['App'].str.lower()"
   ]
  },
  {
   "cell_type": "code",
   "execution_count": 30,
   "id": "74da1c73-bb72-4cec-a42f-ca4f766e7c31",
   "metadata": {},
   "outputs": [],
   "source": [
    "df['Category'] = df['Category'].str.lower()"
   ]
  },
  {
   "cell_type": "code",
   "execution_count": 31,
   "id": "0bd02164-1832-43a7-9bab-b9a670ae3af1",
   "metadata": {},
   "outputs": [],
   "source": [
    "df['Type'] = df['Type'].str.lower()"
   ]
  },
  {
   "cell_type": "markdown",
   "id": "5298be10-bdfc-4215-acef-d20be1d037c8",
   "metadata": {},
   "source": [
    "** Handling Missing Data and duplicates"
   ]
  },
  {
   "cell_type": "code",
   "execution_count": 33,
   "id": "3f70493e-7289-4c1e-b942-204ce955c77e",
   "metadata": {},
   "outputs": [
    {
     "data": {
      "text/plain": [
       "App                  0\n",
       "Category             0\n",
       "Rating            1474\n",
       "Reviews              1\n",
       "Size              1695\n",
       "Installs             1\n",
       "Type                 1\n",
       "Price                1\n",
       "Content Rating       0\n",
       "Genres               0\n",
       "Last Updated         1\n",
       "Current Ver       1850\n",
       "Android Ver       3163\n",
       "dtype: int64"
      ]
     },
     "execution_count": 33,
     "metadata": {},
     "output_type": "execute_result"
    }
   ],
   "source": [
    "df.isnull().sum()"
   ]
  },
  {
   "cell_type": "code",
   "execution_count": 34,
   "id": "993d6b22-d0c3-4595-a39b-08634bde1362",
   "metadata": {},
   "outputs": [],
   "source": [
    "df['Rating'] = df['Rating'].fillna(df['Rating'].median())  "
   ]
  },
  {
   "cell_type": "code",
   "execution_count": 35,
   "id": "dd77b2e6-db8e-4947-8bd3-a8e300864301",
   "metadata": {},
   "outputs": [],
   "source": [
    "df['Reviews'] = df['Reviews'].fillna(df['Reviews'].median()) "
   ]
  },
  {
   "cell_type": "code",
   "execution_count": 36,
   "id": "9ae4cacf-52ca-48f6-b746-2fb8dcc3a0da",
   "metadata": {},
   "outputs": [],
   "source": [
    "df['Size'] = df['Size'].fillna(df['Size'].median()) "
   ]
  },
  {
   "cell_type": "code",
   "execution_count": 37,
   "id": "b13ed9cb-c11c-46bb-a46b-89f9a3b3f132",
   "metadata": {},
   "outputs": [],
   "source": [
    "df['Installs'] = df['Installs'].fillna(df['Installs'].median())"
   ]
  },
  {
   "cell_type": "code",
   "execution_count": 38,
   "id": "452b3a92-6537-46ee-bd66-d7753dd9de07",
   "metadata": {},
   "outputs": [],
   "source": [
    "df['Type'] = df['Type'].fillna(df['Type'].mode()[0])"
   ]
  },
  {
   "cell_type": "code",
   "execution_count": 39,
   "id": "5b1fbb18-29b9-49c4-b00c-63a9a9e4204b",
   "metadata": {},
   "outputs": [],
   "source": [
    "df['Price'] = df['Price'].fillna(df['Price'].median()) "
   ]
  },
  {
   "cell_type": "code",
   "execution_count": 40,
   "id": "da9f0106-edf7-4dd8-8796-f88e754f3704",
   "metadata": {},
   "outputs": [],
   "source": [
    "df['Last Updated'] = df['Last Updated'].fillna(df['Last Updated'].mode()[0])"
   ]
  },
  {
   "cell_type": "code",
   "execution_count": 41,
   "id": "c34c1ac7-2b45-49bf-bda3-c0756c84bcc5",
   "metadata": {},
   "outputs": [],
   "source": [
    "df['Current Ver'] = df['Current Ver'].fillna(df['Current Ver'].median())"
   ]
  },
  {
   "cell_type": "code",
   "execution_count": 42,
   "id": "d84a3745-d3b6-421f-97a1-92c32e992544",
   "metadata": {},
   "outputs": [],
   "source": [
    "df['Android Ver'] = df['Android Ver'].fillna(df['Android Ver'].median())"
   ]
  },
  {
   "cell_type": "code",
   "execution_count": 43,
   "id": "28998b63-22b6-47f5-9246-57dd62553442",
   "metadata": {},
   "outputs": [
    {
     "data": {
      "text/plain": [
       "App               0\n",
       "Category          0\n",
       "Rating            0\n",
       "Reviews           0\n",
       "Size              0\n",
       "Installs          0\n",
       "Type              0\n",
       "Price             0\n",
       "Content Rating    0\n",
       "Genres            0\n",
       "Last Updated      0\n",
       "Current Ver       0\n",
       "Android Ver       0\n",
       "dtype: int64"
      ]
     },
     "execution_count": 43,
     "metadata": {},
     "output_type": "execute_result"
    }
   ],
   "source": [
    "df.isnull().sum()"
   ]
  },
  {
   "cell_type": "code",
   "execution_count": 44,
   "id": "9905cb1c-b98f-428f-b288-7a3993182dbf",
   "metadata": {},
   "outputs": [
    {
     "data": {
      "text/plain": [
       "483"
      ]
     },
     "execution_count": 44,
     "metadata": {},
     "output_type": "execute_result"
    }
   ],
   "source": [
    "df.duplicated().sum()"
   ]
  },
  {
   "cell_type": "code",
   "execution_count": 45,
   "id": "509e8197-44f1-4959-b827-881bb850b0d5",
   "metadata": {},
   "outputs": [],
   "source": [
    "df.drop_duplicates(inplace=True)  "
   ]
  },
  {
   "cell_type": "code",
   "execution_count": 46,
   "id": "dcb33585-0ca2-4cbb-8c4b-727ada6b183b",
   "metadata": {},
   "outputs": [
    {
     "data": {
      "text/plain": [
       "0"
      ]
     },
     "execution_count": 46,
     "metadata": {},
     "output_type": "execute_result"
    }
   ],
   "source": [
    "df.duplicated().sum()"
   ]
  },
  {
   "cell_type": "code",
   "execution_count": 47,
   "id": "9747c6c7-faba-405e-bfc0-722103335e19",
   "metadata": {},
   "outputs": [],
   "source": [
    "mapping = {  \n",
    "    'free': 0,   \n",
    "    'paid': 1, \n",
    "    '0': 0       \n",
    "} \n",
    "df['Type'] = df['Type'].map(mapping)"
   ]
  },
  {
   "cell_type": "code",
   "execution_count": 48,
   "id": "4663037b-4181-483b-a375-eb1a5b7f26cb",
   "metadata": {},
   "outputs": [],
   "source": [
    " label_mapping = {  \n",
    "    'Adults only 18+': 5,  \n",
    "    'Mature 17+': 4,  \n",
    "    'Teen': 3,  \n",
    "    'Everyone 10+': 2,  \n",
    "    'Everyone': 1,  \n",
    "    'Unrated': 0,  \n",
    "    'Unknown': -1  \n",
    "}  \n",
    "df['Content Rating'] = df['Content Rating'].map(label_mapping)  "
   ]
  },
  {
   "cell_type": "markdown",
   "id": "b6a98c8a-54e6-452f-9265-f3e3e327ae14",
   "metadata": {},
   "source": [
    "** Detecting Outliers"
   ]
  },
  {
   "cell_type": "code",
   "execution_count": 50,
   "id": "d2fa33ed-3444-401a-980e-291dfad6edb4",
   "metadata": {},
   "outputs": [
    {
     "data": {
      "image/png": "[encoded data removed]",
      "text/plain": [
       "<Figure size 1000x600 with 1 Axes>"
      ]
     },
     "metadata": {},
     "output_type": "display_data"
    }
   ],
   "source": [
    "import seaborn as sns\n",
    "import matplotlib.pyplot as plt  \n",
    "numeric_columns = ['Rating', 'Reviews', 'Size', 'Installs', 'Price']  \n",
    "\n",
    " \n",
    "sns.set(style=\"whitegrid\")  \n",
    "\n",
    " \n",
    "plt.figure(figsize=(10, 6))  \n",
    "sns.boxplot(data=df[numeric_columns])  \n",
    "plt.title('Box Plot of Numeric Data')  \n",
    "plt.ylabel('Values')   \n",
    "plt.xticks(ticks=range(len(numeric_columns)), labels=numeric_columns)   \n",
    "plt.show()  "
   ]
  },
  {
   "cell_type": "code",
   "execution_count": 51,
   "id": "8ac66dcb-cece-482b-a13f-941eeeb4a977",
   "metadata": {},
   "outputs": [
    {
     "data": {
      "image/png": "[encoded data removed]",
      "text/plain": [
       "<Figure size 640x480 with 1 Axes>"
      ]
     },
     "metadata": {},
     "output_type": "display_data"
    }
   ],
   "source": [
    "import matplotlib.pyplot as plt  \n",
    "numeric_columns = ['Rating', 'Reviews', 'Size', 'Installs', 'Price','Android Ver','Current Ver']\n",
    " \n",
    "plt.boxplot([df[col] for col in numeric_columns], labels=numeric_columns)   \n",
    "plt.title('Box plot  of data')  \n",
    "plt.show()  "
   ]
  },
  {
   "cell_type": "code",
   "execution_count": 52,
   "id": "8c48bb78-5c6e-4732-8d1f-78dbd7251f99",
   "metadata": {},
   "outputs": [
    {
     "name": "stdout",
     "output_type": "stream",
     "text": [
      "None\n"
     ]
    }
   ],
   "source": [
    "def detect_outliers_iqr(df, columns):  \n",
    "    outliers_dict = {}  \n",
    "    for col in columns:  \n",
    "        Q1 = df[col].quantile(0.25)  \n",
    "        Q3 = df[col].quantile(0.75)  \n",
    "        IQR = Q3 - Q1    \n",
    "        lower_bound = Q1 - 1.5 * IQR  \n",
    "        upper_bound = Q3 + 1.5 * IQR    \n",
    "        outliers = df[(df[col] < lower_bound) | (df[col] > upper_bound)]   \n",
    "        outliers_dict[col] = outliers.index.tolist()  \n",
    "print(detect_outliers_iqr(df,numeric_columns))"
   ]
  },
  {
   "cell_type": "code",
   "execution_count": 53,
   "id": "c5f3f45d-aa42-4cc4-a24b-76a7bc2817fc",
   "metadata": {},
   "outputs": [],
   "source": [
    "df['Rating'] = df['Rating'].replace(19, df['Rating'].median())"
   ]
  },
  {
   "cell_type": "code",
   "execution_count": 54,
   "id": "be23bf57-9d57-4b34-a268-a61f10cdd22b",
   "metadata": {},
   "outputs": [
    {
     "data": {
      "text/html": [
       "<div>\n",
       "<style scoped>\n",
       "    .dataframe tbody tr th:only-of-type {\n",
       "        vertical-align: middle;\n",
       "    }\n",
       "\n",
       "    .dataframe tbody tr th {\n",
       "        vertical-align: top;\n",
       "    }\n",
       "\n",
       "    .dataframe thead th {\n",
       "        text-align: right;\n",
       "    }\n",
       "</style>\n",
       "<table border=\"1\" class=\"dataframe\">\n",
       "  <thead>\n",
       "    <tr style=\"text-align: right;\">\n",
       "      <th></th>\n",
       "      <th>Rating</th>\n",
       "      <th>Reviews</th>\n",
       "      <th>Size</th>\n",
       "      <th>Installs</th>\n",
       "      <th>Type</th>\n",
       "      <th>Price</th>\n",
       "      <th>Last Updated</th>\n",
       "      <th>Current Ver</th>\n",
       "      <th>Android Ver</th>\n",
       "    </tr>\n",
       "  </thead>\n",
       "  <tbody>\n",
       "    <tr>\n",
       "      <th>count</th>\n",
       "      <td>10358.000000</td>\n",
       "      <td>1.035800e+04</td>\n",
       "      <td>1.035800e+04</td>\n",
       "      <td>1.035800e+04</td>\n",
       "      <td>10358.000000</td>\n",
       "      <td>10358.000000</td>\n",
       "      <td>10358</td>\n",
       "      <td>1.035800e+04</td>\n",
       "      <td>10358.000000</td>\n",
       "    </tr>\n",
       "    <tr>\n",
       "      <th>mean</th>\n",
       "      <td>4.203746</td>\n",
       "      <td>4.058656e+05</td>\n",
       "      <td>2.006473e+07</td>\n",
       "      <td>1.415640e+07</td>\n",
       "      <td>0.073856</td>\n",
       "      <td>1.030701</td>\n",
       "      <td>2017-11-14 10:01:41.486773504</td>\n",
       "      <td>1.461197e+11</td>\n",
       "      <td>3.946042</td>\n",
       "    </tr>\n",
       "    <tr>\n",
       "      <th>min</th>\n",
       "      <td>1.000000</td>\n",
       "      <td>0.000000e+00</td>\n",
       "      <td>1.000000e+03</td>\n",
       "      <td>0.000000e+00</td>\n",
       "      <td>0.000000</td>\n",
       "      <td>0.000000</td>\n",
       "      <td>2010-05-21 00:00:00</td>\n",
       "      <td>0.000000e+00</td>\n",
       "      <td>1.000000</td>\n",
       "    </tr>\n",
       "    <tr>\n",
       "      <th>25%</th>\n",
       "      <td>4.100000</td>\n",
       "      <td>3.200000e+01</td>\n",
       "      <td>5.700000e+06</td>\n",
       "      <td>1.000000e+03</td>\n",
       "      <td>0.000000</td>\n",
       "      <td>0.000000</td>\n",
       "      <td>2017-09-03 00:00:00</td>\n",
       "      <td>1.002000e+06</td>\n",
       "      <td>4.000000</td>\n",
       "    </tr>\n",
       "    <tr>\n",
       "      <th>50%</th>\n",
       "      <td>4.300000</td>\n",
       "      <td>1.683000e+03</td>\n",
       "      <td>1.300000e+07</td>\n",
       "      <td>1.000000e+05</td>\n",
       "      <td>0.000000</td>\n",
       "      <td>0.000000</td>\n",
       "      <td>2018-05-20 00:00:00</td>\n",
       "      <td>2.000000e+06</td>\n",
       "      <td>4.100000</td>\n",
       "    </tr>\n",
       "    <tr>\n",
       "      <th>75%</th>\n",
       "      <td>4.500000</td>\n",
       "      <td>4.640425e+04</td>\n",
       "      <td>2.600000e+07</td>\n",
       "      <td>1.000000e+06</td>\n",
       "      <td>0.000000</td>\n",
       "      <td>0.000000</td>\n",
       "      <td>2018-07-19 00:00:00</td>\n",
       "      <td>3.001000e+06</td>\n",
       "      <td>4.100000</td>\n",
       "    </tr>\n",
       "    <tr>\n",
       "      <th>max</th>\n",
       "      <td>5.000000</td>\n",
       "      <td>7.815831e+07</td>\n",
       "      <td>1.000000e+08</td>\n",
       "      <td>1.000000e+09</td>\n",
       "      <td>1.000000</td>\n",
       "      <td>400.000000</td>\n",
       "      <td>2018-08-08 00:00:00</td>\n",
       "      <td>1.255162e+15</td>\n",
       "      <td>8.000000</td>\n",
       "    </tr>\n",
       "    <tr>\n",
       "      <th>std</th>\n",
       "      <td>0.485572</td>\n",
       "      <td>2.696651e+06</td>\n",
       "      <td>2.101961e+07</td>\n",
       "      <td>8.023580e+07</td>\n",
       "      <td>0.261549</td>\n",
       "      <td>16.277843</td>\n",
       "      <td>NaN</td>\n",
       "      <td>1.235240e+13</td>\n",
       "      <td>0.750416</td>\n",
       "    </tr>\n",
       "  </tbody>\n",
       "</table>\n",
       "</div>"
      ],
      "text/plain": [
       "             Rating       Reviews          Size      Installs          Type  \\\n",
       "count  10358.000000  1.035800e+04  1.035800e+04  1.035800e+04  10358.000000   \n",
       "mean       4.203746  4.058656e+05  2.006473e+07  1.415640e+07      0.073856   \n",
       "min        1.000000  0.000000e+00  1.000000e+03  0.000000e+00      0.000000   \n",
       "25%        4.100000  3.200000e+01  5.700000e+06  1.000000e+03      0.000000   \n",
       "50%        4.300000  1.683000e+03  1.300000e+07  1.000000e+05      0.000000   \n",
       "75%        4.500000  4.640425e+04  2.600000e+07  1.000000e+06      0.000000   \n",
       "max        5.000000  7.815831e+07  1.000000e+08  1.000000e+09      1.000000   \n",
       "std        0.485572  2.696651e+06  2.101961e+07  8.023580e+07      0.261549   \n",
       "\n",
       "              Price                   Last Updated   Current Ver   Android Ver  \n",
       "count  10358.000000                          10358  1.035800e+04  10358.000000  \n",
       "mean       1.030701  2017-11-14 10:01:41.486773504  1.461197e+11      3.946042  \n",
       "min        0.000000            2010-05-21 00:00:00  0.000000e+00      1.000000  \n",
       "25%        0.000000            2017-09-03 00:00:00  1.002000e+06      4.000000  \n",
       "50%        0.000000            2018-05-20 00:00:00  2.000000e+06      4.100000  \n",
       "75%        0.000000            2018-07-19 00:00:00  3.001000e+06      4.100000  \n",
       "max      400.000000            2018-08-08 00:00:00  1.255162e+15      8.000000  \n",
       "std       16.277843                            NaN  1.235240e+13      0.750416  "
      ]
     },
     "execution_count": 54,
     "metadata": {},
     "output_type": "execute_result"
    }
   ],
   "source": [
    "df.describe()"
   ]
  },
  {
   "cell_type": "code",
   "execution_count": 55,
   "id": "870ee42f-0435-4d35-86d7-c02d590fdb78",
   "metadata": {},
   "outputs": [
    {
     "data": {
      "image/png": "[encoded data removed]",
      "text/plain": [
       "<Figure size 1000x400 with 1 Axes>"
      ]
     },
     "metadata": {},
     "output_type": "display_data"
    },
    {
     "data": {
      "image/png": "[encoded data removed]",
      "text/plain": [
       "<Figure size 1000x400 with 1 Axes>"
      ]
     },
     "metadata": {},
     "output_type": "display_data"
    },
    {
     "data": {
      "image/png": "[encoded data removed]",
      "text/plain": [
       "<Figure size 1000x400 with 1 Axes>"
      ]
     },
     "metadata": {},
     "output_type": "display_data"
    },
    {
     "data": {
      "image/png": "[encoded data removed]",
      "text/plain": [
       "<Figure size 1000x400 with 1 Axes>"
      ]
     },
     "metadata": {},
     "output_type": "display_data"
    },
    {
     "data": {
      "image/png": "[encoded data removed]",
      "text/plain": [
       "<Figure size 1000x400 with 1 Axes>"
      ]
     },
     "metadata": {},
     "output_type": "display_data"
    },
    {
     "data": {
      "image/png": "[encoded data removed]",
      "text/plain": [
       "<Figure size 1000x400 with 1 Axes>"
      ]
     },
     "metadata": {},
     "output_type": "display_data"
    },
    {
     "data": {
      "image/png": "[encoded data removed]",
      "text/plain": [
       "<Figure size 1000x400 with 1 Axes>"
      ]
     },
     "metadata": {},
     "output_type": "display_data"
    },
    {
     "name": "stdout",
     "output_type": "stream",
     "text": [
      "IQR Outliers: {'Rating': [15, 87, 159, 176, 209, 311, 312, 325, 477, 492, 501, 510, 513, 514, 518, 520, 522, 527, 528, 533, 546, 555, 572, 578, 611, 619, 625, 645, 663, 684, 694, 862, 869, 885, 915, 1056, 1057, 1186, 1190, 1213, 1217, 1263, 1472, 1491, 1528, 1548, 1561, 1571, 1576, 1591, 1594, 1782, 1784, 2087, 2249, 2260, 2264, 2266, 2295, 2300, 2317, 2327, 2329, 2337, 2351, 2355, 2360, 2403, 2408, 2411, 2412, 2428, 2487, 2492, 2531, 2535, 2702, 2824, 3001, 3021, 3023, 3034, 3131, 3133, 3137, 3139, 3146, 3165, 3247, 3250, 3262, 3268, 3271, 3273, 3279, 3460, 3483, 3698, 3709, 3741, 3748, 3891, 3938, 3955, 3961, 3962, 3963, 3972, 3979, 4006, 4010, 4062, 4066, 4078, 4127, 4135, 4161, 4164, 4165, 4168, 4171, 4181, 4187, 4194, 4209, 4210, 4226, 4230, 4251, 4253, 4258, 4331, 4361, 4373, 4375, 4386, 4389, 4392, 4470, 4492, 4493, 4497, 4498, 4509, 4511, 4512, 4522, 4547, 4552, 4595, 4597, 4599, 4608, 4614, 4638, 4641, 4642, 4646, 4647, 4650, 4651, 4653, 4657, 4665, 4669, 4689, 4693, 4721, 4726, 4728, 4752, 4763, 4787, 4790, 4828, 4831, 4867, 4900, 4902, 4903, 4904, 4905, 4906, 4908, 4909, 4910, 4912, 4913, 4919, 4922, 4925, 4926, 4929, 4932, 4933, 4934, 4935, 4970, 4973, 4981, 4995, 5039, 5041, 5045, 5048, 5054, 5097, 5102, 5104, 5133, 5137, 5149, 5151, 5173, 5175, 5179, 5181, 5192, 5197, 5200, 5212, 5215, 5216, 5233, 5236, 5239, 5291, 5292, 5313, 5357, 5426, 5443, 5447, 5458, 5479, 5488, 5514, 5550, 5555, 5556, 5565, 5579, 5580, 5604, 5614, 5636, 5650, 5658, 5660, 5662, 5697, 5705, 5706, 5709, 5710, 5711, 5712, 5716, 5722, 5736, 5751, 5761, 5769, 5770, 5803, 5805, 5808, 5858, 5874, 5875, 5878, 5905, 5908, 5913, 5914, 5916, 5941, 5949, 5963, 5974, 5978, 5987, 5990, 5995, 6008, 6009, 6016, 6021, 6039, 6041, 6088, 6091, 6099, 6112, 6121, 6123, 6127, 6133, 6135, 6137, 6141, 6156, 6161, 6168, 6196, 6201, 6221, 6223, 6247, 6248, 6249, 6253, 6263, 6308, 6319, 6327, 6359, 6379, 6404, 6408, 6411, 6451, 6461, 6463, 6490, 6500, 6504, 6511, 6513, 6532, 6581, 6582, 6583, 6588, 6602, 6607, 6619, 6620, 6622, 6625, 6640, 6645, 6661, 6663, 6677, 6685, 6716, 6718, 6757, 6765, 6767, 6769, 6773, 6790, 6792, 6806, 6812, 6814, 6837, 6884, 6891, 6894, 6897, 6899, 6903, 6909, 6923, 6948, 6958, 6961, 6970, 7009, 7016, 7029, 7045, 7048, 7050, 7062, 7070, 7075, 7082, 7085, 7088, 7089, 7090, 7097, 7103, 7104, 7118, 7126, 7144, 7162, 7175, 7187, 7200, 7238, 7242, 7247, 7250, 7253, 7254, 7266, 7286, 7352, 7368, 7383, 7406, 7411, 7413, 7416, 7425, 7427, 7431, 7456, 7464, 7483, 7511, 7512, 7518, 7524, 7547, 7568, 7614, 7633, 7635, 7636, 7641, 7644, 7653, 7658, 7669, 7677, 7722, 7746, 7758, 7779, 7789, 7796, 7798, 7803, 7806, 7819, 7829, 7838, 7852, 7863, 7887, 7894, 7908, 7912, 7914, 7926, 7928, 7930, 7966, 7975, 7977, 7978, 7989, 7990, 7991, 8016, 8023, 8025, 8031, 8033, 8035, 8041, 8044, 8045, 8046, 8048, 8059, 8092, 8129, 8131, 8135, 8136, 8141, 8142, 8162, 8200, 8211, 8216, 8221, 8229, 8236, 8258, 8284, 8285, 8316, 8365, 8367, 8368, 8370, 8373, 8377, 8385, 8387, 8402, 8422, 8430, 8469, 8474, 8476, 8478, 8481, 8485, 8508, 8543, 8549, 8551, 8552, 8553, 8555, 8557, 8561, 8564, 8569, 8571, 8584, 8585, 8589, 8592, 8594, 8609, 8615, 8637, 8716, 8730, 8734, 8737, 8739, 8744, 8767, 8790, 8802, 8807, 8808, 8811, 8812, 8819, 8820, 8826, 8830, 8832, 8838, 8855, 8857, 8859, 8875, 8881, 8892, 8916, 8927, 8932, 8933, 8936, 8938, 8942, 8944, 8945, 8946, 8948, 8951, 8952, 8967, 8970, 8975, 8976, 8979, 8982, 8991, 9011, 9022, 9069, 9070, 9072, 9155, 9168, 9169, 9176, 9177, 9182, 9204, 9211, 9213, 9230, 9236, 9244, 9267, 9270, 9273, 9276, 9277, 9279, 9283, 9285, 9286, 9287, 9288, 9292, 9317, 9327, 9332, 9334, 9336, 9344, 9374, 9394, 9406, 9407, 9415, 9422, 9425, 9426, 9430, 9433, 9435, 9443, 9449, 9513, 9542, 9543, 9547, 9591, 9649, 9694, 9711, 9765, 9776, 9781, 9783, 9800, 9809, 9817, 9867, 9869, 9890, 9895, 9908, 9926, 9933, 9946, 9947, 9948, 9950, 9951, 9958, 9959, 9973, 10001, 10020, 10024, 10041, 10043, 10046, 10047, 10050, 10052, 10076, 10077, 10082, 10115, 10128, 10129, 10130, 10131, 10133, 10136, 10137, 10142, 10145, 10149, 10151, 10152, 10157, 10159, 10164, 10175, 10204, 10235, 10250, 10267, 10313, 10322, 10324, 10325, 10341, 10360, 10397, 10400, 10424, 10428, 10437, 10454, 10458, 10464, 10470, 10474, 10476, 10478, 10562, 10578, 10580, 10591, 10592, 10610, 10615, 10624, 10630, 10639, 10648, 10665, 10677, 10703, 10715, 10743, 10757, 10765, 10766, 10819, 10828], 'Reviews': [3, 18, 19, 42, 45, 70, 72, 79, 139, 142, 143, 144, 145, 146, 149, 151, 152, 155, 179, 186, 188, 189, 192, 194, 196, 201, 204, 206, 216, 218, 231, 293, 297, 304, 320, 335, 336, 337, 338, 339, 340, 341, 342, 343, 344, 345, 346, 347, 351, 352, 354, 356, 359, 362, 363, 365, 366, 367, 369, 370, 371, 372, 376, 378, 382, 383, 384, 385, 386, 387, 389, 390, 391, 392, 393, 395, 398, 399, 400, 401, 402, 403, 404, 406, 407, 410, 411, 412, 413, 415, 417, 418, 419, 420, 424, 428, 429, 435, 437, 438, 440, 441, 443, 447, 449, 451, 452, 454, 455, 457, 458, 459, 464, 467, 471, 482, 483, 489, 491, 493, 502, 503, 532, 574, 591, 600, 699, 700, 703, 712, 717, 718, 720, 734, 736, 737, 740, 744, 745, 747, 784, 790, 793, 796, 798, 801, 807, 808, 820, 825, 832, 835, 843, 848, 855, 858, 859, 865, 866, 867, 873, 874, 876, 878, 879, 881, 883, 886, 888, 889, 891, 892, 893, 899, 903, 909, 910, 912, 917, 921, 923, 931, 932, 933, 938, 945, 955, 956, 958, 971, 1000, 1002, 1003, 1048, 1053, 1056, 1059, 1060, 1062, 1070, 1073, 1074, 1076, 1077, 1081, 1083, 1086, 1088, 1097, 1099, 1114, 1117, 1120, 1126, 1131, 1140, 1146, 1148, 1156, 1163, 1165, 1168, 1169, 1173, 1174, 1176, 1182, 1183, 1193, 1197, 1199, 1201, 1231, 1236, 1237, 1246, 1250, 1252, 1254, 1255, 1256, 1260, 1261, 1262, 1264, 1265, 1267, 1273, 1275, 1277, 1281, 1283, 1286, 1288, 1289, 1292, 1298, 1304, 1306, 1308, 1309, 1311, 1312, 1316, 1317, 1319, 1322, 1323, 1342, 1357, 1360, 1361, 1362, 1363, 1369, 1375, 1379, 1380, 1382, 1386, 1387, 1389, 1391, 1397, 1408, 1411, 1446, 1449, 1454, 1456, 1496, 1512, 1523, 1535, 1565, 1570, 1573, 1574, 1577, 1605, 1644, 1653, 1654, 1655, 1656, 1657, 1658, 1659, 1660, 1661, 1662, 1663, 1665, 1666, 1667, 1668, 1670, 1671, 1673, 1675, 1676, 1677, 1678, 1679, 1680, 1681, 1682, 1683, 1684, 1685, 1688, 1689, 1690, 1692, 1693, 1694, 1695, 1696, 1697, 1698, 1699, 1700, 1701, 1702, 1703, 1705, 1706, 1707, 1708, 1709, 1710, 1711, 1712, 1713, 1714, 1715, 1716, 1718, 1720, 1721, 1722, 1723, 1724, 1726, 1727, 1729, 1730, 1732, 1733, 1735, 1736, 1737, 1738, 1739, 1740, 1742, 1743, 1744, 1745, 1746, 1748, 1749, 1750, 1752, 1753, 1754, 1755, 1757, 1758, 1761, 1762, 1763, 1764, 1765, 1767, 1770, 1771, 1773, 1781, 1784, 1785, 1786, 1788, 1789, 1790, 1791, 1792, 1793, 1794, 1795, 1799, 1800, 1801, 1802, 1803, 1805, 1806, 1808, 1810, 1813, 1816, 1818, 1819, 1820, 1824, 1825, 1826, 1840, 1841, 1842, 1843, 1844, 1845, 1846, 1847, 1848, 1849, 1850, 1851, 1852, 1853, 1854, 1855, 1856, 1857, 1860, 1861, 1862, 1863, 1866, 1867, 1869, 1870, 1871, 1872, 1873, 1875, 1876, 1877, 1878, 1879, 1880, 1881, 1882, 1885, 1886, 1887, 1888, 1889, 1890, 1891, 1892, 1893, 1894, 1895, 1896, 1897, 1898, 1899, 1901, 1902, 1903, 1905, 1906, 1907, 1908, 1909, 1910, 1911, 1913, 1914, 1915, 1916, 1918, 1919, 1920, 1923, 1924, 1926, 1927, 1928, 1929, 1930, 1931, 1932, 1933, 1934, 1936, 1937, 1938, 1939, 1940, 1941, 1942, 1943, 1945, 1946, 1947, 1952, 1953, 1954, 1955, 1956, 1957, 1960, 1962, 1964, 1965, 1969, 1970, 1971, 1972, 1973, 1975, 1976, 1977, 1978, 1982, 1983, 1984, 1985, 1986, 1988, 1990, 1991, 1992, 1994, 1996, 1997, 1998, 1999, 2002, 2003, 2006, 2007, 2008, 2009, 2010, 2011, 2012, 2014, 2016, 2026, 2037, 2040, 2049, 2050, 2052, 2054, 2056, 2057, 2080, 2088, 2093, 2095, 2104, 2106, 2109, 2115, 2117, 2118, 2119, 2120, 2123, 2125, 2127, 2134, 2138, 2140, 2148, 2206, 2207, 2208, 2210, 2216, 2218, 2225, 2226, 2237, 2238, 2239, 2240, 2241, 2242, 2319, 2544, 2545, 2546, 2548, 2550, 2552, 2553, 2554, 2561, 2562, 2565, 2571, 2576, 2578, 2579, 2580, 2582, 2584, 2588, 2589, 2590, 2591, 2592, 2593, 2594, 2595, 2596, 2597, 2598, 2599, 2600, 2603, 2604, 2607, 2608, 2610, 2614, 2616, 2617, 2618, 2619, 2621, 2622, 2624, 2625, 2629, 2631, 2632, 2636, 2637, 2638, 2639, 2642, 2644, 2646, 2649, 2651, 2654, 2655, 2656, 2658, 2660, 2661, 2662, 2663, 2664, 2665, 2666, 2674, 2678, 2679, 2681, 2683, 2684, 2685, 2686, 2687, 2688, 2689, 2691, 2693, 2695, 2696, 2698, 2710, 2711, 2712, 2714, 2715, 2716, 2718, 2734, 2753, 2756, 2763, 2764, 2771, 2790, 2796, 2800, 2808, 2809, 2811, 2812, 2813, 2814, 2816, 2825, 2828, 2829, 2833, 2835, 2836, 2841, 2845, 2847, 2849, 2850, 2853, 2855, 2856, 2858, 2859, 2860, 2861, 2862, 2865, 2866, 2869, 2870, 2872, 2878, 2881, 2884, 2890, 2891, 2892, 2895, 2896, 2897, 2900, 2902, 2905, 2907, 2908, 2909, 2910, 2911, 2914, 2915, 2916, 2917, 2919, 2920, 2921, 2922, 2923, 2926, 2928, 2929, 2930, 2931, 2932, 2934, 2935, 2936, 2937, 2938, 2939, 2940, 2941, 2942, 2943, 2944, 2945, 2947, 2948, 2949, 2951, 2953, 2956, 2958, 2959, 2961, 2963, 2964, 2965, 2967, 2972, 2974, 2975, 2982, 2984, 2985, 2986, 2991, 2997, 2999, 3003, 3009, 3016, 3042, 3045, 3048, 3050, 3055, 3069, 3074, 3082, 3083, 3084, 3101, 3102, 3103, 3108, 3109, 3111, 3112, 3115, 3116, 3117, 3120, 3121, 3122, 3127, 3129, 3130, 3136, 3142, 3144, 3145, 3148, 3149, 3151, 3156, 3161, 3162, 3163, 3169, 3194, 3210, 3215, 3217, 3223, 3224, 3226, 3232, 3234, 3235, 3239, 3246, 3251, 3253, 3255, 3256, 3257, 3260, 3265, 3272, 3276, 3281, 3286, 3287, 3288, 3289, 3291, 3293, 3294, 3295, 3298, 3299, 3300, 3301, 3307, 3315, 3319, 3320, 3323, 3324, 3325, 3326, 3328, 3329, 3331, 3333, 3334, 3337, 3341, 3342, 3343, 3344, 3347, 3348, 3349, 3350, 3352, 3354, 3357, 3360, 3365, 3367, 3371, 3372, 3373, 3374, 3378, 3379, 3382, 3385, 3389, 3400, 3409, 3411, 3416, 3419, 3420, 3422, 3425, 3428, 3436, 3437, 3438, 3440, 3443, 3445, 3446, 3450, 3451, 3452, 3453, 3454, 3456, 3457, 3458, 3459, 3463, 3464, 3465, 3467, 3469, 3473, 3476, 3477, 3482, 3484, 3485, 3486, 3487, 3488, 3490, 3491, 3493, 3495, 3501, 3502, 3504, 3506, 3508, 3511, 3513, 3514, 3516, 3519, 3522, 3523, 3524, 3526, 3527, 3528, 3529, 3530, 3531, 3532, 3533, 3534, 3535, 3538, 3543, 3546, 3547, 3548, 3550, 3558, 3560, 3562, 3566, 3567, 3569, 3574, 3626, 3627, 3628, 3630, 3632, 3637, 3639, 3647, 3649, 3652, 3654, 3665, 3671, 3672, 3675, 3676, 3677, 3680, 3684, 3685, 3686, 3687, 3690, 3693, 3701, 3702, 3703, 3711, 3712, 3713, 3715, 3716, 3719, 3724, 3726, 3728, 3729, 3733, 3734, 3736, 3738, 3739, 3740, 3755, 3758, 3766, 3773, 3776, 3794, 3795, 3797, 3812, 3816, 3819, 3820, 3827, 3828, 3830, 3834, 3840, 3852, 3865, 3870, 3871, 3872, 3876, 3877, 3879, 3880, 3883, 3884, 3885, 3888, 3889, 3892, 3895, 3896, 3897, 3898, 3900, 3901, 3902, 3904, 3905, 3906, 3907, 3908, 3909, 3910, 3911, 3912, 3913, 3914, 3915, 3916, 3919, 3920, 3921, 3922, 3923, 3924, 3928, 3929, 3930, 3932, 3934, 3936, 3940, 3941, 3942, 3943, 3945, 3946, 3949, 3951, 3952, 3953, 3956, 3958, 3960, 3967, 3973, 3974, 3975, 3976, 3980, 3986, 3987, 3992, 3994, 3996, 4000, 4005, 4017, 4031, 4032, 4033, 4034, 4035, 4036, 4037, 4038, 4040, 4041, 4042, 4043, 4044, 4046, 4048, 4049, 4050, 4051, 4052, 4054, 4055, 4056, 4059, 4060, 4061, 4063, 4064, 4065, 4068, 4069, 4072, 4073, 4074, 4076, 4079, 4080, 4083, 4084, 4087, 4088, 4089, 4090, 4098, 4099, 4100, 4101, 4102, 4105, 4106, 4107, 4111, 4115, 4122, 4126, 4141, 4144, 4145, 4146, 4147, 4148, 4150, 4151, 4153, 4159, 4160, 4170, 4182, 4188, 4211, 4217, 4219, 4224, 4227, 4229, 4231, 4232, 4233, 4235, 4237, 4239, 4241, 4242, 4243, 4244, 4247, 4248, 4249, 4252, 4255, 4257, 4261, 4262, 4279, 4284, 4285, 4287, 4300, 4302, 4320, 4321, 4322, 4323, 4325, 4326, 4327, 4329, 4334, 4338, 4343, 4344, 4346, 4347, 4348, 4353, 4355, 4365, 4369, 4377, 4381, 4387, 4390, 4420, 4421, 4422, 4426, 4443, 4446, 4447, 4448, 4474, 4501, 4503, 4517, 4518, 4527, 4566, 4568, 4574, 4575, 4578, 4580, 4586, 4587, 4588, 4589, 4590, 4592, 4602, 4609, 4630, 4631, 4633, 4634, 4671, 4673, 4675, 4676, 4681, 4682, 4683, 4685, 4686, 4688, 4696, 4712, 4715, 4717, 4718, 4720, 4722, 4724, 4725, 4727, 4730, 4739, 4740, 4742, 4744, 4745, 4748, 4756, 4763, 4793, 4795, 4796, 4797, 4798, 4799, 4800, 4801, 4802, 4805, 4808, 4809, 4810, 4812, 4814, 4815, 4816, 4818, 4821, 4822, 4823, 4824, 4825, 4827, 4854, 4856, 4859, 4860, 4861, 4864, 4869, 4870, 4874, 4886, 4890, 4942, 4948, 4949, 5024, 5037, 5042, 5049, 5058, 5062, 5071, 5075, 5077, 5078, 5185, 5210, 5223, 5283, 5293, 5294, 5306, 5319, 5322, 5323, 5324, 5332, 5345, 5349, 5353, 5363, 5381, 5383, 5384, 5385, 5387, 5388, 5389, 5391, 5392, 5393, 5395, 5396, 5397, 5398, 5399, 5408, 5415, 5416, 5417, 5418, 5419, 5420, 5422, 5423, 5424, 5427, 5428, 5429, 5430, 5433, 5437, 5438, 5442, 5444, 5490, 5505, 5512, 5516, 5517, 5518, 5519, 5520, 5522, 5523, 5524, 5526, 5527, 5531, 5534, 5536, 5540, 5548, 5581, 5582, 5589, 5590, 5593, 5594, 5595, 5596, 5598, 5599, 5601, 5602, 5605, 5606, 5607, 5608, 5609, 5610, 5611, 5612, 5613, 5617, 5618, 5625, 5629, 5635, 5651, 5691, 5695, 5702, 5704, 5714, 5719, 5720, 5728, 5731, 5766, 5768, 5856, 5860, 5862, 5863, 5869, 5948, 5950, 5954, 5999, 6051, 6054, 6067, 6068, 6070, 6075, 6077, 6079, 6080, 6081, 6084, 6086, 6087, 6097, 6184, 6187, 6203, 6206, 6212, 6213, 6214, 6269, 6281, 6286, 6288, 6289, 6290, 6293, 6294, 6295, 6296, 6297, 6300, 6301, 6302, 6303, 6304, 6327, 6340, 6373, 6449, 6497, 6546, 6551, 6552, 6554, 6561, 6572, 6573, 6577, 6578, 6579, 6592, 6654, 6673, 6679, 6707, 6713, 6717, 6719, 6776, 6845, 6849, 6881, 6892, 6977, 6989, 6993, 6999, 7003, 7017, 7077, 7106, 7149, 7219, 7229, 7235, 7267, 7329, 7404, 7408, 7417, 7429, 7441, 7455, 7459, 7467, 7474, 7487, 7490, 7501, 7515, 7519, 7520, 7525, 7536, 7537, 7539, 7540, 7542, 7544, 7550, 7553, 7572, 7582, 7589, 7593, 7599, 7604, 7615, 7660, 7693, 7715, 7744, 7752, 7765, 7766, 7808, 7812, 7935, 7937, 7938, 7987, 7995, 8029, 8034, 8082, 8088, 8115, 8126, 8172, 8174, 8175, 8177, 8178, 8179, 8180, 8182, 8185, 8186, 8187, 8192, 8193, 8194, 8195, 8197, 8198, 8202, 8245, 8247, 8248, 8253, 8261, 8263, 8268, 8272, 8273, 8289, 8290, 8291, 8293, 8297, 8298, 8299, 8301, 8303, 8304, 8305, 8307, 8308, 8309, 8311, 8313, 8314, 8315, 8316, 8320, 8347, 8396, 8398, 8399, 8400, 8404, 8407, 8421, 8428, 8432, 8433, 8436, 8439, 8440, 8441, 8442, 8443, 8445, 8446, 8450, 8451, 8452, 8454, 8455, 8456, 8457, 8458, 8459, 8460, 8461, 8462, 8463, 8512, 8514, 8515, 8528, 8537, 8613, 8624, 8625, 8633, 8638, 8640, 8646, 8667, 8670, 8727, 8741, 8754, 8756, 8757, 8758, 8766, 8769, 8774, 8794, 8837, 8847, 8860, 8864, 8878, 8880, 8886, 8894, 8896, 8897, 8898, 8901, 8925, 8926, 8929, 9088, 9140, 9141, 9142, 9143, 9144, 9145, 9146, 9147, 9149, 9152, 9153, 9156, 9159, 9160, 9162, 9163, 9164, 9166, 9172, 9174, 9191, 9314, 9345, 9359, 9361, 9377, 9379, 9385, 9391, 9392, 9396, 9398, 9432, 9438, 9454, 9476, 9501, 9520, 9523, 9561, 9562, 9564, 9573, 9576, 9579, 9587, 9597, 9599, 9601, 9603, 9609, 9610, 9611, 9614, 9615, 9616, 9617, 9620, 9621, 9623, 9625, 9628, 9631, 9632, 9635, 9636, 9637, 9641, 9642, 9643, 9671, 9673, 9678, 9680, 9689, 9729, 9731, 9780, 9784, 9786, 9813, 9816, 9818, 9833, 9839, 9841, 9842, 9843, 9844, 9845, 9847, 9849, 9851, 9852, 9853, 9854, 9855, 9856, 9859, 9860, 9862, 9901, 9975, 9988, 10010, 10015, 10021, 10033, 10070, 10100, 10118, 10179, 10186, 10188, 10189, 10190, 10193, 10194, 10196, 10200, 10213, 10253, 10319, 10327, 10378, 10383, 10396, 10408, 10429, 10473, 10507, 10509, 10513, 10526, 10549, 10636, 10687, 10707, 10710, 10716, 10728, 10729, 10731, 10740, 10781, 10784, 10809, 10840], 'Size': [51, 122, 169, 379, 380, 569, 600, 615, 728, 748, 790, 801, 825, 843, 851, 890, 893, 902, 976, 1002, 1028, 1053, 1055, 1072, 1077, 1080, 1135, 1167, 1169, 1186, 1189, 1232, 1288, 1296, 1298, 1299, 1301, 1308, 1312, 1313, 1318, 1320, 1345, 1379, 1395, 1429, 1491, 1522, 1531, 1565, 1566, 1599, 1653, 1654, 1655, 1660, 1661, 1666, 1667, 1668, 1670, 1677, 1679, 1680, 1687, 1688, 1689, 1692, 1693, 1695, 1696, 1697, 1700, 1701, 1705, 1706, 1707, 1709, 1710, 1713, 1714, 1716, 1721, 1724, 1727, 1729, 1732, 1733, 1737, 1739, 1740, 1745, 1746, 1748, 1750, 1754, 1758, 1764, 1765, 1776, 1777, 1780, 1781, 1784, 1789, 1791, 1793, 1795, 1796, 1798, 1800, 1801, 1802, 1805, 1809, 1811, 1812, 1816, 1820, 1821, 1822, 1823, 1824, 1825, 1827, 1828, 1829, 1830, 1831, 1834, 1836, 1841, 1842, 1843, 1849, 1851, 1852, 1853, 1855, 1857, 1859, 1860, 1862, 1863, 1867, 1869, 1870, 1872, 1873, 1878, 1879, 1880, 1881, 1886, 1889, 1890, 1892, 1893, 1897, 1898, 1901, 1902, 1905, 1906, 1909, 1913, 1919, 1920, 1923, 1924, 1926, 1927, 1928, 1931, 1932, 1933, 1934, 1940, 1946, 1950, 1956, 1957, 1958, 1963, 1964, 1975, 1977, 1978, 1982, 1985, 1988, 1990, 1996, 1998, 2007, 2011, 2016, 2038, 2045, 2058, 2061, 2062, 2064, 2068, 2069, 2074, 2075, 2077, 2078, 2081, 2084, 2085, 2087, 2088, 2092, 2096, 2098, 2099, 2101, 2103, 2104, 2105, 2109, 2118, 2119, 2124, 2125, 2126, 2130, 2134, 2139, 2146, 2148, 2149, 2165, 2174, 2176, 2183, 2185, 2187, 2191, 2206, 2210, 2213, 2218, 2228, 2230, 2235, 2237, 2239, 2280, 2284, 2299, 2301, 2320, 2333, 2349, 2351, 2379, 2388, 2394, 2424, 2435, 2458, 2493, 2519, 2571, 2593, 2607, 2609, 2617, 2631, 2702, 2717, 2802, 2806, 2882, 2955, 3027, 3031, 3038, 3041, 3054, 3068, 3107, 3110, 3141, 3153, 3159, 3160, 3171, 3177, 3274, 3473, 3529, 3569, 3580, 3582, 3586, 3599, 3621, 3692, 3714, 3842, 3843, 3864, 3874, 3878, 3883, 3884, 3896, 3897, 3902, 3908, 3910, 3912, 3916, 3925, 3931, 3935, 3936, 3937, 3942, 3945, 3947, 3952, 3963, 3973, 3975, 3977, 3986, 3987, 3991, 3994, 4003, 4017, 4040, 4041, 4043, 4045, 4048, 4055, 4056, 4059, 4060, 4073, 4075, 4086, 4089, 4109, 4141, 4148, 4168, 4184, 4188, 4191, 4211, 4219, 4229, 4235, 4244, 4249, 4261, 4268, 4289, 4291, 4292, 4297, 4305, 4314, 4318, 4321, 4327, 4332, 4334, 4339, 4349, 4363, 4377, 4381, 4383, 4396, 4403, 4404, 4407, 4408, 4415, 4424, 4477, 4494, 4498, 4515, 4527, 4533, 4535, 4536, 4550, 4556, 4559, 4560, 4581, 4584, 4587, 4594, 4630, 4677, 4678, 4679, 4690, 4692, 4783, 4795, 4798, 4799, 4801, 4806, 4807, 4816, 4817, 4818, 4819, 4820, 4823, 4825, 4826, 4827, 4830, 4832, 4833, 4834, 4835, 4837, 4838, 4842, 4856, 4859, 4860, 4861, 4864, 4870, 4886, 4901, 4992, 5015, 5078, 5116, 5125, 5133, 5138, 5158, 5189, 5195, 5223, 5227, 5228, 5246, 5261, 5267, 5277, 5310, 5339, 5342, 5350, 5375, 5385, 5389, 5397, 5398, 5408, 5417, 5419, 5422, 5427, 5428, 5429, 5430, 5431, 5437, 5442, 5479, 5489, 5490, 5517, 5530, 5531, 5535, 5540, 5541, 5542, 5553, 5556, 5557, 5559, 5562, 5563, 5571, 5572, 5589, 5595, 5596, 5599, 5610, 5616, 5622, 5635, 5637, 5641, 5642, 5649, 5686, 5691, 5702, 5728, 5746, 5764, 5766, 5782, 5821, 5823, 5860, 5862, 5864, 5865, 5930, 5948, 5950, 5957, 5984, 5985, 6079, 6087, 6097, 6104, 6106, 6113, 6179, 6181, 6206, 6293, 6301, 6309, 6334, 6384, 6406, 6409, 6439, 6547, 6548, 6551, 6552, 6566, 6676, 6698, 6701, 6707, 6712, 6719, 6720, 6725, 6726, 6745, 6748, 6752, 6811, 6824, 6873, 6876, 6881, 6890, 6976, 6986, 7019, 7042, 7087, 7149, 7167, 7229, 7322, 7336, 7339, 7364, 7373, 7404, 7408, 7415, 7421, 7428, 7429, 7436, 7437, 7443, 7449, 7476, 7515, 7525, 7591, 7595, 7601, 7602, 7604, 7608, 7611, 7616, 7621, 7623, 7629, 7630, 7631, 7715, 7727, 7801, 7811, 7825, 7846, 7854, 7864, 7900, 7932, 7937, 8020, 8034, 8045, 8057, 8085, 8107, 8172, 8193, 8195, 8213, 8245, 8250, 8253, 8255, 8256, 8259, 8261, 8268, 8272, 8273, 8296, 8300, 8314, 8336, 8399, 8406, 8409, 8411, 8426, 8429, 8433, 8437, 8451, 8453, 8460, 8462, 8469, 8474, 8478, 8481, 8553, 8573, 8610, 8624, 8625, 8638, 8670, 8717, 8721, 8746, 8748, 8749, 8760, 8763, 8764, 8779, 8786, 8791, 8796, 8797, 8800, 8801, 8815, 8835, 8847, 8860, 8863, 8886, 8917, 8936, 8944, 8964, 8989, 9039, 9066, 9083, 9141, 9143, 9145, 9149, 9152, 9156, 9158, 9159, 9165, 9166, 9168, 9170, 9171, 9195, 9210, 9336, 9348, 9351, 9353, 9358, 9359, 9367, 9382, 9391, 9403, 9404, 9405, 9409, 9440, 9441, 9454, 9463, 9469, 9476, 9488, 9520, 9533, 9536, 9538, 9545, 9551, 9564, 9569, 9583, 9584, 9601, 9605, 9607, 9612, 9614, 9616, 9668, 9669, 9671, 9672, 9677, 9678, 9682, 9683, 9686, 9687, 9688, 9697, 9732, 9735, 9736, 9737, 9738, 9750, 9752, 9758, 9762, 9764, 9773, 9774, 9837, 9850, 9853, 9854, 9855, 9861, 9890, 9932, 9946, 9955, 9974, 9983, 9984, 9988, 10005, 10009, 10011, 10013, 10016, 10021, 10027, 10031, 10032, 10060, 10064, 10100, 10120, 10156, 10166, 10174, 10179, 10186, 10192, 10246, 10259, 10267, 10271, 10275, 10299, 10345, 10362, 10384, 10387, 10391, 10394, 10396, 10469, 10507, 10526, 10588, 10629, 10673, 10730, 10746, 10757, 10779, 10783, 10784, 10793, 10803, 10824], 'Installs': [2, 3, 12, 18, 19, 37, 42, 45, 67, 69, 70, 72, 117, 139, 142, 143, 144, 145, 146, 149, 152, 153, 155, 157, 164, 166, 172, 173, 179, 186, 187, 188, 189, 190, 192, 193, 194, 198, 199, 201, 202, 204, 205, 206, 207, 208, 213, 214, 216, 218, 222, 225, 226, 231, 232, 238, 240, 255, 259, 264, 285, 293, 294, 297, 311, 320, 330, 335, 336, 337, 338, 339, 340, 341, 342, 343, 344, 345, 346, 347, 348, 349, 350, 351, 352, 353, 354, 355, 356, 359, 360, 361, 362, 363, 364, 365, 366, 367, 369, 370, 371, 372, 375, 376, 377, 378, 379, 380, 382, 383, 384, 385, 386, 387, 388, 389, 390, 391, 392, 393, 395, 398, 399, 400, 401, 402, 403, 404, 406, 407, 410, 411, 412, 413, 415, 417, 418, 419, 420, 424, 428, 429, 434, 435, 437, 440, 441, 442, 443, 444, 447, 449, 451, 452, 453, 454, 458, 459, 461, 464, 467, 471, 482, 483, 484, 487, 489, 491, 492, 493, 502, 508, 532, 537, 574, 591, 600, 670, 699, 700, 702, 703, 705, 711, 714, 717, 718, 720, 729, 734, 736, 737, 740, 742, 744, 745, 747, 784, 790, 791, 793, 796, 798, 800, 801, 807, 808, 820, 823, 824, 825, 829, 832, 835, 843, 844, 855, 858, 859, 860, 861, 862, 863, 864, 865, 866, 867, 869, 870, 873, 874, 875, 876, 878, 879, 880, 881, 883, 885, 886, 888, 889, 891, 892, 893, 899, 903, 910, 912, 913, 914, 917, 919, 921, 923, 924, 931, 932, 933, 938, 942, 945, 953, 955, 956, 958, 960, 971, 973, 991, 1000, 1002, 1003, 1005, 1008, 1048, 1050, 1051, 1052, 1053, 1055, 1056, 1059, 1060, 1063, 1065, 1068, 1070, 1073, 1074, 1076, 1077, 1081, 1083, 1084, 1086, 1088, 1099, 1114, 1117, 1126, 1131, 1140, 1145, 1146, 1156, 1162, 1163, 1165, 1167, 1168, 1169, 1171, 1173, 1174, 1176, 1178, 1183, 1186, 1193, 1195, 1197, 1199, 1200, 1201, 1203, 1204, 1220, 1226, 1231, 1235, 1236, 1237, 1246, 1249, 1250, 1252, 1253, 1254, 1255, 1256, 1258, 1260, 1261, 1262, 1263, 1264, 1265, 1267, 1273, 1275, 1277, 1281, 1283, 1284, 1286, 1288, 1289, 1292, 1296, 1298, 1304, 1305, 1306, 1308, 1309, 1311, 1312, 1314, 1316, 1317, 1319, 1320, 1322, 1323, 1326, 1340, 1342, 1344, 1352, 1357, 1360, 1361, 1362, 1363, 1364, 1369, 1375, 1376, 1379, 1380, 1382, 1386, 1387, 1389, 1390, 1391, 1397, 1408, 1411, 1438, 1439, 1446, 1449, 1450, 1454, 1456, 1465, 1470, 1482, 1496, 1510, 1512, 1521, 1523, 1535, 1542, 1562, 1563, 1565, 1566, 1568, 1570, 1573, 1574, 1576, 1577, 1580, 1581, 1583, 1584, 1589, 1595, 1598, 1600, 1605, 1614, 1620, 1627, 1633, 1644, 1653, 1654, 1655, 1656, 1657, 1658, 1659, 1660, 1661, 1662, 1663, 1664, 1665, 1666, 1667, 1668, 1670, 1671, 1672, 1673, 1675, 1676, 1677, 1678, 1679, 1680, 1681, 1682, 1683, 1684, 1685, 1686, 1687, 1688, 1689, 1690, 1691, 1692, 1693, 1694, 1695, 1696, 1697, 1698, 1699, 1700, 1701, 1702, 1703, 1705, 1706, 1707, 1708, 1709, 1710, 1711, 1712, 1713, 1714, 1715, 1716, 1718, 1719, 1720, 1721, 1722, 1723, 1724, 1726, 1727, 1729, 1730, 1731, 1732, 1733, 1735, 1736, 1737, 1738, 1739, 1740, 1741, 1742, 1743, 1744, 1745, 1746, 1748, 1749, 1750, 1752, 1753, 1754, 1755, 1757, 1758, 1761, 1762, 1763, 1764, 1765, 1766, 1767, 1768, 1770, 1771, 1772, 1773, 1776, 1777, 1781, 1782, 1783, 1784, 1785, 1786, 1787, 1788, 1789, 1790, 1791, 1792, 1793, 1794, 1795, 1799, 1800, 1801, 1802, 1803, 1805, 1806, 1807, 1808, 1809, 1810, 1812, 1813, 1816, 1818, 1819, 1820, 1823, 1824, 1825, 1826, 1840, 1841, 1842, 1843, 1844, 1845, 1846, 1847, 1848, 1849, 1850, 1851, 1852, 1853, 1854, 1855, 1856, 1857, 1860, 1861, 1862, 1863, 1866, 1867, 1869, 1870, 1871, 1872, 1873, 1875, 1876, 1877, 1878, 1879, 1880, 1881, 1882, 1883, 1885, 1886, 1887, 1888, 1889, 1890, 1891, 1892, 1893, 1894, 1895, 1896, 1897, 1898, 1899, 1901, 1902, 1903, 1904, 1905, 1906, 1907, 1908, 1909, 1910, 1911, 1912, 1913, 1914, 1915, 1916, 1918, 1919, 1920, 1923, 1924, 1926, 1927, 1928, 1929, 1930, 1931, 1932, 1933, 1934, 1936, 1937, 1938, 1939, 1940, 1941, 1942, 1943, 1945, 1946, 1947, 1952, 1953, 1954, 1955, 1956, 1957, 1958, 1959, 1960, 1962, 1963, 1964, 1965, 1969, 1970, 1971, 1972, 1973, 1974, 1975, 1976, 1977, 1978, 1979, 1980, 1982, 1983, 1984, 1985, 1986, 1988, 1989, 1990, 1991, 1992, 1993, 1994, 1996, 1997, 1998, 1999, 2001, 2002, 2003, 2005, 2006, 2007, 2008, 2009, 2010, 2011, 2012, 2013, 2014, 2015, 2016, 2018, 2019, 2022, 2025, 2026, 2029, 2031, 2034, 2037, 2038, 2040, 2041, 2043, 2045, 2048, 2049, 2050, 2051, 2052, 2054, 2056, 2057, 2059, 2063, 2067, 2072, 2080, 2088, 2091, 2093, 2095, 2097, 2099, 2104, 2106, 2109, 2112, 2115, 2117, 2118, 2119, 2120, 2121, 2123, 2124, 2125, 2127, 2129, 2131, 2134, 2136, 2138, 2140, 2148, 2155, 2156, 2165, 2180, 2187, 2206, 2207, 2208, 2209, 2210, 2212, 2213, 2214, 2215, 2216, 2217, 2218, 2223, 2224, 2225, 2226, 2230, 2237, 2238, 2239, 2240, 2241, 2310, 2319, 2544, 2545, 2546, 2547, 2548, 2550, 2552, 2553, 2554, 2558, 2561, 2562, 2564, 2565, 2566, 2569, 2571, 2573, 2576, 2577, 2578, 2579, 2580, 2582, 2584, 2585, 2586, 2588, 2589, 2590, 2591, 2592, 2593, 2594, 2595, 2596, 2597, 2598, 2599, 2600, 2603, 2604, 2607, 2608, 2610, 2613, 2614, 2616, 2617, 2618, 2619, 2621, 2622, 2624, 2625, 2628, 2629, 2631, 2632, 2636, 2637, 2638, 2639, 2641, 2642, 2644, 2646, 2649, 2651, 2654, 2655, 2656, 2657, 2658, 2659, 2660, 2661, 2662, 2663, 2664, 2665, 2666, 2668, 2669, 2670, 2673, 2674, 2675, 2676, 2678, 2679, 2681, 2683, 2684, 2685, 2686, 2687, 2688, 2689, 2690, 2691, 2692, 2693, 2694, 2695, 2696, 2697, 2698, 2699, 2701, 2706, 2710, 2711, 2712, 2714, 2715, 2716, 2717, 2718, 2720, 2721, 2728, 2734, 2742, 2751, 2753, 2756, 2760, 2762, 2763, 2764, 2768, 2771, 2787, 2790, 2794, 2795, 2796, 2800, 2802, 2808, 2809, 2810, 2811, 2812, 2813, 2814, 2816, 2819, 2821, 2824, 2825, 2827, 2828, 2829, 2833, 2835, 2836, 2837, 2840, 2841, 2844, 2845, 2846, 2847, 2848, 2849, 2850, 2852, 2853, 2854, 2855, 2856, 2858, 2859, 2860, 2861, 2862, 2863, 2864, 2865, 2866, 2869, 2870, 2872, 2877, 2878, 2879, 2881, 2882, 2884, 2889, 2890, 2891, 2892, 2893, 2895, 2896, 2897, 2900, 2902, 2903, 2905, 2907, 2908, 2909, 2910, 2911, 2914, 2915, 2916, 2917, 2918, 2919, 2920, 2921, 2922, 2924, 2926, 2928, 2929, 2930, 2931, 2932, 2933, 2934, 2935, 2936, 2937, 2938, 2939, 2940, 2941, 2942, 2943, 2944, 2945, 2946, 2947, 2948, 2949, 2951, 2953, 2954, 2955, 2956, 2958, 2959, 2961, 2962, 2963, 2964, 2965, 2967, 2969, 2970, 2971, 2972, 2974, 2975, 2976, 2977, 2978, 2979, 2982, 2983, 2984, 2985, 2986, 2991, 2997, 2999, 3003, 3009, 3016, 3021, 3042, 3045, 3048, 3050, 3055, 3056, 3062, 3068, 3069, 3073, 3074, 3082, 3083, 3084, 3087, 3092, 3096, 3101, 3102, 3103, 3104, 3108, 3109, 3111, 3112, 3114, 3115, 3116, 3117, 3119, 3120, 3121, 3122, 3123, 3124, 3125, 3126, 3127, 3128, 3129, 3130, 3134, 3136, 3138, 3139, 3142, 3143, 3144, 3145, 3146, 3147, 3148, 3149, 3151, 3152, 3154, 3156, 3158, 3160, 3161, 3162, 3163, 3168, 3169, 3180, 3183, 3189, 3194, 3195, 3204, 3210, 3212, 3215, 3216, 3217, 3223, 3224, 3226, 3232, 3233, 3234, 3235, 3236, 3237, 3238, 3239, 3241, 3242, 3243, 3244, 3245, 3246, 3247, 3248, 3249, 3250, 3251, 3253, 3255, 3256, 3257, 3259, 3260, 3261, 3262, 3263, 3264, 3265, 3266, 3267, 3268, 3269, 3270, 3271, 3272, 3273, 3276, 3277, 3281, 3282, 3284, 3286, 3287, 3288, 3289, 3290, 3291, 3292, 3293, 3294, 3295, 3296, 3297, 3298, 3299, 3300, 3301, 3302, 3307, 3308, 3310, 3315, 3316, 3319, 3320, 3323, 3324, 3325, 3326, 3327, 3328, 3329, 3330, 3331, 3333, 3334, 3337, 3338, 3341, 3342, 3343, 3344, 3347, 3348, 3349, 3350, 3352, 3354, 3355, 3357, 3358, 3360, 3365, 3367, 3368, 3369, 3370, 3371, 3372, 3373, 3374, 3375, 3376, 3378, 3379, 3382, 3384, 3385, 3389, 3390, 3391, 3394, 3399, 3400, 3401, 3407, 3409, 3410, 3411, 3412, 3413, 3414, 3416, 3417, 3418, 3419, 3420, 3421, 3422, 3423, 3425, 3427, 3428, 3433, 3436, 3437, 3438, 3440, 3443, 3444, 3445, 3446, 3448, 3450, 3451, 3452, 3453, 3454, 3455, 3456, 3457, 3458, 3459, 3460, 3462, 3463, 3464, 3465, 3466, 3467, 3468, 3469, 3470, 3471, 3473, 3474, 3475, 3476, 3477, 3478, 3479, 3480, 3481, 3482, 3483, 3484, 3485, 3486, 3487, 3488, 3489, 3490, 3491, 3492, 3493, 3495, 3500, 3502, 3504, 3508, 3509, 3511, 3513, 3514, 3516, 3518, 3519, 3522, 3523, 3524, 3526, 3527, 3528, 3529, 3530, 3531, 3532, 3533, 3534, 3535, 3536, 3538, 3540, 3542, 3543, 3546, 3547, 3548, 3550, 3557, 3558, 3560, 3561, 3562, 3563, 3566, 3567, 3569, 3573, 3574, 3576, 3626, 3628, 3630, 3632, 3636, 3637, 3639, 3641, 3642, 3644, 3645, 3647, 3649, 3652, 3654, 3657, 3662, 3665, 3667, 3670, 3671, 3672, 3675, 3676, 3677, 3680, 3682, 3684, 3685, 3686, 3687, 3688, 3690, 3691, 3693, 3694, 3696, 3700, 3701, 3702, 3703, 3711, 3712, 3713, 3715, 3716, 3719, 3722, 3724, 3725, 3726, 3728, 3729, 3733, 3734, 3736, 3737, 3738, 3739, 3740, 3747, 3748, 3754, 3755, 3758, 3766, 3772, 3776, 3777, 3784, 3788, 3794, 3795, 3797, 3798, 3812, 3813, 3816, 3819, 3820, 3821, 3822, 3823, 3824, 3825, 3827, 3828, 3830, 3834, 3837, 3838, 3839, 3840, 3849, 3852, 3855, 3857, 3860, 3862, 3865, 3869, 3870, 3871, 3872, 3876, 3877, 3878, 3879, 3880, 3883, 3884, 3885, 3888, 3889, 3892, 3894, 3895, 3896, 3897, 3900, 3901, 3902, 3904, 3905, 3906, 3907, 3908, 3909, 3910, 3911, 3912, 3913, 3914, 3915, 3916, 3919, 3920, 3921, 3922, 3923, 3924, 3926, 3927, 3928, 3929, 3930, 3932, 3934, 3935, 3936, 3940, 3941, 3942, 3943, 3945, 3946, 3949, 3951, 3952, 3953, 3956, 3958, 3960, 3967, 3973, 3974, 3975, 3976, 3980, 3986, 3987, 3992, 3994, 3996, 4000, 4005, 4017, 4031, 4032, 4033, 4034, 4035, 4036, 4037, 4038, 4040, 4041, 4042, 4043, 4044, 4046, 4048, 4049, 4050, 4051, 4052, 4054, 4055, 4056, 4059, 4060, 4061, 4063, 4064, 4065, 4068, 4069, 4070, 4071, 4072, 4073, 4074, 4076, 4079, 4080, 4083, 4084, 4086, 4087, 4088, 4089, 4090, 4094, 4098, 4099, 4100, 4101, 4102, 4105, 4106, 4107, 4111, 4115, 4122, 4126, 4141, 4144, 4145, 4146, 4147, 4148, 4149, 4150, 4151, 4153, 4159, 4160, 4170, 4182, 4183, 4185, 4186, 4188, 4200, 4205, 4211, 4217, 4219, 4221, 4224, 4227, 4229, 4231, 4232, 4233, 4235, 4237, 4238, 4239, 4240, 4241, 4242, 4243, 4244, 4247, 4248, 4249, 4252, 4254, 4255, 4257, 4261, 4262, 4267, 4279, 4284, 4285, 4287, 4300, 4302, 4320, 4321, 4322, 4323, 4324, 4325, 4326, 4327, 4329, 4334, 4338, 4339, 4343, 4344, 4346, 4347, 4348, 4353, 4355, 4365, 4369, 4377, 4381, 4387, 4398, 4399, 4421, 4422, 4426, 4443, 4446, 4447, 4448, 4464, 4474, 4501, 4503, 4517, 4518, 4527, 4566, 4568, 4573, 4574, 4575, 4578, 4580, 4586, 4587, 4588, 4589, 4590, 4591, 4592, 4593, 4600, 4601, 4602, 4603, 4605, 4607, 4609, 4611, 4614, 4618, 4630, 4631, 4632, 4633, 4634, 4656, 4671, 4673, 4675, 4676, 4680, 4681, 4682, 4683, 4685, 4686, 4688, 4696, 4712, 4715, 4717, 4718, 4720, 4722, 4724, 4725, 4727, 4730, 4736, 4738, 4739, 4740, 4742, 4744, 4745, 4746, 4747, 4748, 4750, 4752, 4756, 4762, 4763, 4793, 4795, 4796, 4797, 4798, 4799, 4800, 4801, 4802, 4804, 4805, 4806, 4807, 4808, 4809, 4810, 4812, 4814, 4815, 4816, 4817, 4818, 4821, 4822, 4824, 4825, 4827, 4830, 4841, 4853, 4854, 4856, 4859, 4860, 4861, 4862, 4864, 4869, 4870, 4872, 4874, 4886, 4890, 4930, 4942, 4948, 4949, 4974, 4979, 4987, 4989, 4992, 5014, 5024, 5033, 5037, 5042, 5048, 5049, 5057, 5058, 5062, 5063, 5069, 5071, 5073, 5074, 5075, 5076, 5077, 5078, 5209, 5210, 5223, 5283, 5293, 5294, 5306, 5309, 5312, 5319, 5322, 5323, 5324, 5332, 5334, 5345, 5349, 5353, 5381, 5383, 5384, 5385, 5386, 5387, 5388, 5389, 5391, 5392, 5393, 5394, 5395, 5396, 5397, 5399, 5408, 5415, 5416, 5417, 5418, 5419, 5420, 5422, 5423, 5424, 5425, 5427, 5429, 5430, 5432, 5433, 5434, 5437, 5438, 5442, 5443, 5444, 5446, 5505, 5512, 5516, 5517, 5518, 5519, 5520, 5522, 5523, 5524, 5526, 5527, 5531, 5534, 5536, 5540, 5543, 5544, 5548, 5574, 5581, 5582, 5588, 5589, 5590, 5591, 5592, 5593, 5594, 5595, 5596, 5597, 5598, 5599, 5600, 5601, 5602, 5603, 5605, 5606, 5607, 5609, 5610, 5611, 5612, 5613, 5617, 5618, 5620, 5621, 5622, 5623, 5625, 5629, 5635, 5640, 5651, 5695, 5702, 5704, 5714, 5719, 5720, 5728, 5731, 5761, 5766, 5768, 5856, 5860, 5861, 5862, 5863, 5864, 5865, 5866, 5867, 5868, 5869, 5948, 5950, 5952, 5954, 5964, 5999, 6051, 6054, 6059, 6063, 6067, 6068, 6070, 6071, 6075, 6077, 6079, 6080, 6082, 6084, 6086, 6087, 6096, 6097, 6103, 6142, 6178, 6184, 6187, 6195, 6203, 6206, 6212, 6214, 6269, 6281, 6286, 6288, 6289, 6290, 6293, 6294, 6295, 6296, 6297, 6298, 6299, 6300, 6302, 6303, 6304, 6305, 6324, 6327, 6338, 6340, 6355, 6356, 6373, 6449, 6497, 6546, 6551, 6552, 6554, 6561, 6562, 6571, 6572, 6573, 6575, 6577, 6578, 6579, 6592, 6643, 6654, 6661, 6666, 6673, 6679, 6707, 6713, 6717, 6719, 6763, 6776, 6782, 6845, 6849, 6881, 6882, 6885, 6968, 6971, 6972, 6977, 6978, 6989, 6993, 6999, 7003, 7004, 7017, 7021, 7077, 7080, 7106, 7149, 7219, 7223, 7229, 7235, 7240, 7267, 7283, 7329, 7353, 7399, 7404, 7408, 7429, 7441, 7446, 7451, 7455, 7459, 7467, 7487, 7490, 7501, 7515, 7519, 7520, 7525, 7536, 7537, 7539, 7540, 7542, 7543, 7544, 7548, 7550, 7553, 7572, 7582, 7589, 7593, 7594, 7596, 7598, 7599, 7603, 7604, 7613, 7615, 7660, 7715, 7744, 7751, 7752, 7764, 7765, 7797, 7808, 7812, 7813, 7931, 7934, 7935, 7936, 7937, 7938, 7987, 7995, 8029, 8034, 8035, 8082, 8088, 8115, 8126, 8172, 8173, 8174, 8175, 8177, 8179, 8180, 8182, 8184, 8185, 8186, 8187, 8189, 8190, 8192, 8193, 8194, 8195, 8196, 8197, 8198, 8201, 8202, 8245, 8247, 8248, 8250, 8253, 8257, 8261, 8263, 8268, 8272, 8273, 8289, 8290, 8291, 8292, 8293, 8294, 8295, 8297, 8298, 8299, 8301, 8303, 8304, 8305, 8307, 8308, 8309, 8310, 8311, 8312, 8313, 8314, 8315, 8316, 8320, 8347, 8357, 8360, 8372, 8396, 8397, 8398, 8399, 8400, 8403, 8404, 8407, 8418, 8421, 8423, 8428, 8432, 8433, 8436, 8439, 8440, 8441, 8442, 8443, 8445, 8446, 8448, 8450, 8451, 8452, 8454, 8455, 8456, 8457, 8458, 8459, 8460, 8461, 8462, 8463, 8512, 8513, 8514, 8515, 8518, 8522, 8525, 8528, 8529, 8535, 8537, 8624, 8625, 8631, 8633, 8638, 8640, 8646, 8667, 8670, 8727, 8741, 8754, 8756, 8757, 8758, 8759, 8766, 8769, 8774, 8776, 8794, 8807, 8811, 8837, 8847, 8864, 8878, 8880, 8886, 8894, 8896, 8897, 8898, 8901, 8904, 8909, 8922, 8925, 8926, 8929, 9088, 9140, 9141, 9142, 9143, 9144, 9145, 9146, 9147, 9149, 9152, 9153, 9156, 9159, 9160, 9162, 9163, 9164, 9166, 9174, 9191, 9314, 9345, 9359, 9361, 9375, 9379, 9383, 9385, 9390, 9391, 9392, 9393, 9396, 9398, 9401, 9402, 9406, 9430, 9432, 9438, 9439, 9440, 9454, 9463, 9476, 9501, 9520, 9523, 9537, 9538, 9556, 9561, 9562, 9564, 9568, 9570, 9572, 9573, 9575, 9576, 9579, 9587, 9594, 9599, 9601, 9603, 9604, 9609, 9610, 9611, 9614, 9615, 9616, 9617, 9620, 9621, 9623, 9624, 9625, 9628, 9630, 9631, 9632, 9634, 9635, 9636, 9637, 9640, 9641, 9642, 9643, 9644, 9668, 9671, 9673, 9680, 9682, 9684, 9689, 9729, 9731, 9738, 9779, 9780, 9784, 9786, 9813, 9816, 9818, 9821, 9824, 9826, 9833, 9838, 9839, 9841, 9842, 9843, 9844, 9845, 9847, 9849, 9850, 9851, 9852, 9853, 9854, 9855, 9856, 9857, 9858, 9859, 9860, 9861, 9862, 9901, 9936, 9975, 9979, 9988, 10010, 10013, 10015, 10021, 10024, 10027, 10029, 10030, 10033, 10034, 10038, 10063, 10067, 10070, 10100, 10113, 10121, 10170, 10178, 10179, 10182, 10186, 10188, 10189, 10190, 10192, 10193, 10194, 10196, 10200, 10211, 10213, 10253, 10276, 10319, 10327, 10371, 10372, 10374, 10376, 10378, 10379, 10383, 10386, 10389, 10396, 10408, 10423, 10426, 10429, 10435, 10473, 10493, 10502, 10504, 10506, 10507, 10509, 10513, 10521, 10549, 10554, 10568, 10636, 10647, 10683, 10687, 10707, 10710, 10714, 10716, 10723, 10728, 10729, 10731, 10740, 10781, 10784, 10826, 10840], 'Price': [234, 235, 427, 476, 477, 478, 479, 480, 481, 571, 851, 852, 853, 854, 995, 1001, 1227, 1228, 1327, 1335, 1341, 1831, 1832, 1833, 1834, 1835, 1836, 1837, 1838, 1839, 2062, 2085, 2086, 2087, 2150, 2151, 2152, 2153, 2154, 2168, 2170, 2171, 2172, 2173, 2174, 2175, 2176, 2177, 2178, 2179, 2189, 2190, 2191, 2192, 2241, 2242, 2243, 2244, 2245, 2246, 2247, 2248, 2249, 2250, 2251, 2252, 2253, 2254, 2255, 2256, 2257, 2258, 2259, 2260, 2261, 2262, 2263, 2264, 2265, 2266, 2267, 2268, 2269, 2270, 2271, 2272, 2273, 2274, 2275, 2276, 2277, 2278, 2279, 2280, 2281, 2282, 2283, 2284, 2285, 2286, 2287, 2288, 2289, 2290, 2291, 2292, 2293, 2294, 2295, 2296, 2297, 2298, 2299, 2300, 2301, 2302, 2390, 2414, 2422, 2423, 2424, 2425, 2883, 2906, 2913, 3039, 3403, 3405, 3408, 3441, 3442, 3564, 3658, 3957, 3959, 3964, 3966, 3968, 3977, 3985, 3993, 3997, 4003, 4034, 4047, 4057, 4085, 4108, 4127, 4132, 4133, 4134, 4137, 4139, 4140, 4156, 4158, 4161, 4165, 4166, 4169, 4172, 4173, 4175, 4177, 4178, 4181, 4190, 4192, 4197, 4203, 4216, 4218, 4260, 4265, 4282, 4293, 4299, 4301, 4316, 4347, 4358, 4362, 4367, 4380, 4391, 4395, 4397, 4400, 4403, 4405, 4409, 4411, 4413, 4416, 4417, 4419, 4423, 4427, 4429, 4431, 4433, 4437, 4450, 4451, 4452, 4453, 4456, 4457, 4458, 4459, 4460, 4461, 4462, 4465, 4466, 4468, 4471, 4477, 4487, 4488, 4489, 4491, 4508, 4521, 4534, 4542, 4554, 4556, 4559, 4561, 4571, 4577, 4585, 4606, 4612, 4613, 4616, 4617, 4619, 4620, 4621, 4637, 4663, 4694, 4697, 4700, 4708, 4711, 4716, 4721, 4743, 4755, 4759, 4764, 4769, 4773, 4776, 4779, 4781, 4788, 4789, 4813, 4834, 4842, 4844, 4845, 4848, 4868, 4882, 4901, 4938, 4946, 4951, 4952, 4955, 4958, 4962, 4963, 4964, 4971, 4973, 4977, 4980, 4983, 4988, 5005, 5036, 5040, 5051, 5083, 5094, 5126, 5144, 5181, 5215, 5217, 5221, 5224, 5237, 5246, 5252, 5257, 5260, 5263, 5265, 5269, 5307, 5341, 5351, 5354, 5355, 5356, 5357, 5358, 5359, 5360, 5361, 5362, 5364, 5366, 5367, 5369, 5371, 5373, 5411, 5412, 5414, 5465, 5466, 5475, 5476, 5479, 5480, 5482, 5486, 5489, 5490, 5500, 5557, 5578, 5586, 5627, 5631, 5641, 5645, 5648, 5660, 5701, 5712, 5739, 5751, 5756, 5767, 5772, 5777, 5804, 5812, 5832, 5834, 5846, 5847, 5909, 5911, 5912, 5914, 5917, 5924, 5927, 5942, 5945, 5955, 5957, 5959, 5961, 5966, 5973, 5977, 5978, 5982, 5994, 6056, 6088, 6102, 6115, 6120, 6132, 6140, 6179, 6180, 6181, 6198, 6201, 6202, 6205, 6217, 6252, 6277, 6292, 6311, 6341, 6346, 6361, 6366, 6389, 6413, 6425, 6428, 6429, 6432, 6440, 6446, 6457, 6459, 6491, 6496, 6508, 6534, 6538, 6547, 6549, 6553, 6555, 6559, 6560, 6565, 6567, 6570, 6596, 6618, 6624, 6652, 6675, 6680, 6687, 6692, 6722, 6732, 6753, 6760, 6766, 6796, 6808, 6809, 6837, 6886, 6895, 6897, 6919, 6925, 6929, 6936, 6943, 6948, 6974, 6985, 7037, 7097, 7100, 7107, 7145, 7148, 7165, 7183, 7193, 7196, 7198, 7204, 7211, 7215, 7225, 7233, 7237, 7244, 7255, 7328, 7332, 7333, 7335, 7336, 7339, 7342, 7346, 7347, 7355, 7356, 7357, 7359, 7360, 7364, 7375, 7377, 7384, 7390, 7417, 7465, 7466, 7477, 7504, 7538, 7555, 7578, 7580, 7584, 7585, 7586, 7610, 7614, 7617, 7618, 7619, 7620, 7627, 7629, 7658, 7665, 7730, 7738, 7745, 7774, 7775, 7792, 7798, 7810, 7822, 7832, 7862, 7887, 7893, 7894, 7897, 7898, 7899, 7932, 7962, 7978, 7993, 7997, 7999, 8003, 8004, 8006, 8012, 8013, 8014, 8017, 8018, 8019, 8021, 8051, 8074, 8077, 8085, 8137, 8139, 8140, 8141, 8145, 8149, 8150, 8151, 8161, 8164, 8171, 8176, 8191, 8211, 8212, 8219, 8225, 8236, 8242, 8251, 8282, 8286, 8287, 8321, 8328, 8346, 8348, 8350, 8359, 8362, 8364, 8368, 8371, 8376, 8449, 8482, 8489, 8511, 8526, 8555, 8565, 8571, 8574, 8590, 8600, 8604, 8616, 8618, 8719, 8721, 8722, 8723, 8724, 8726, 8733, 8736, 8755, 8777, 8778, 8779, 8780, 8785, 8787, 8792, 8793, 8795, 8800, 8801, 8804, 8823, 8825, 8841, 8845, 8853, 8860, 8879, 8887, 8890, 8912, 8927, 8950, 8993, 9010, 9024, 9026, 9028, 9030, 9039, 9045, 9054, 9056, 9057, 9058, 9060, 9063, 9064, 9065, 9082, 9096, 9101, 9104, 9151, 9154, 9165, 9170, 9206, 9211, 9220, 9227, 9294, 9304, 9325, 9334, 9337, 9357, 9409, 9465, 9470, 9478, 9480, 9490, 9541, 9550, 9566, 9569, 9574, 9586, 9592, 9613, 9627, 9647, 9657, 9669, 9672, 9678, 9679, 9690, 9697, 9700, 9704, 9710, 9715, 9717, 9719, 9728, 9730, 9785, 9828, 9848, 9869, 9876, 9905, 9910, 9917, 9920, 9932, 9934, 9941, 10005, 10006, 10035, 10036, 10037, 10039, 10041, 10043, 10046, 10047, 10050, 10051, 10052, 10053, 10060, 10066, 10072, 10073, 10122, 10270, 10442, 10446, 10448, 10450, 10453, 10457, 10459, 10460, 10517, 10531, 10540, 10570, 10583, 10586, 10594, 10645, 10650, 10651, 10661, 10662, 10664, 10668, 10669, 10674, 10675, 10679, 10682, 10690, 10697, 10735, 10760, 10782, 10785, 10798], 'Android Ver': [4, 5, 8, 13, 14, 17, 25, 28, 29, 31, 36, 48, 56, 58, 59, 65, 66, 72, 80, 82, 84, 86, 98, 107, 113, 122, 129, 130, 133, 134, 140, 144, 153, 160, 163, 168, 170, 171, 173, 177, 178, 180, 184, 185, 190, 193, 196, 200, 203, 209, 223, 225, 227, 231, 235, 242, 246, 248, 249, 253, 255, 257, 258, 263, 295, 301, 304, 306, 317, 318, 324, 330, 334, 339, 343, 345, 348, 358, 368, 371, 379, 380, 389, 397, 398, 408, 416, 426, 429, 435, 437, 439, 450, 452, 457, 458, 460, 486, 490, 494, 496, 504, 506, 513, 518, 519, 522, 536, 546, 555, 567, 602, 603, 611, 615, 628, 631, 635, 647, 656, 663, 691, 717, 719, 721, 722, 723, 726, 728, 729, 732, 741, 747, 753, 754, 755, 756, 765, 767, 768, 770, 775, 790, 795, 796, 801, 802, 808, 810, 813, 816, 821, 822, 827, 834, 835, 837, 853, 854, 860, 862, 883, 887, 890, 896, 900, 902, 909, 915, 916, 917, 918, 919, 920, 921, 922, 923, 927, 929, 938, 941, 948, 949, 950, 952, 956, 957, 973, 976, 986, 990, 994, 999, 1000, 1011, 1014, 1020, 1024, 1028, 1030, 1033, 1038, 1039, 1042, 1043, 1050, 1063, 1072, 1073, 1076, 1077, 1085, 1089, 1091, 1092, 1094, 1103, 1104, 1107, 1108, 1111, 1112, 1113, 1115, 1119, 1121, 1122, 1123, 1133, 1135, 1139, 1145, 1147, 1150, 1153, 1154, 1156, 1158, 1159, 1162, 1164, 1165, 1166, 1168, 1169, 1170, 1171, 1173, 1175, 1176, 1177, 1178, 1185, 1189, 1190, 1193, 1194, 1195, 1197, 1206, 1207, 1213, 1217, 1221, 1229, 1230, 1232, 1233, 1234, 1235, 1238, 1245, 1247, 1249, 1250, 1251, 1257, 1263, 1266, 1273, 1281, 1282, 1284, 1290, 1291, 1293, 1295, 1296, 1298, 1300, 1301, 1308, 1311, 1312, 1313, 1315, 1319, 1321, 1335, 1343, 1351, 1353, 1355, 1365, 1367, 1368, 1380, 1389, 1392, 1396, 1399, 1412, 1425, 1429, 1433, 1446, 1447, 1453, 1455, 1460, 1466, 1472, 1476, 1479, 1489, 1492, 1493, 1494, 1495, 1497, 1498, 1499, 1500, 1513, 1516, 1518, 1521, 1523, 1527, 1529, 1532, 1533, 1534, 1537, 1540, 1542, 1544, 1547, 1549, 1550, 1553, 1554, 1555, 1557, 1558, 1559, 1561, 1563, 1564, 1569, 1573, 1575, 1577, 1579, 1580, 1583, 1584, 1586, 1587, 1588, 1589, 1591, 1593, 1596, 1597, 1601, 1604, 1609, 1613, 1615, 1621, 1624, 1625, 1635, 1637, 1639, 1659, 1664, 1669, 1671, 1677, 1678, 1695, 1709, 1713, 1715, 1719, 1728, 1733, 1735, 1738, 1739, 1757, 1764, 1766, 1769, 1779, 1782, 1783, 1785, 1789, 1794, 1795, 1798, 1801, 1802, 1803, 1806, 1812, 1817, 1819, 1820, 1822, 1825, 1828, 1829, 1830, 1831, 1832, 1833, 1834, 1835, 1839, 1840, 1846, 1847, 1849, 1852, 1858, 1859, 1863, 1866, 1874, 1880, 1882, 1883, 1891, 1897, 1902, 1911, 1919, 1928, 1929, 1932, 1934, 1938, 1942, 1943, 1948, 1952, 1995, 1998, 2003, 2005, 2011, 2023, 2030, 2035, 2041, 2057, 2058, 2061, 2062, 2063, 2071, 2072, 2073, 2086, 2093, 2101, 2113, 2115, 2116, 2117, 2125, 2137, 2142, 2143, 2151, 2153, 2154, 2156, 2157, 2160, 2162, 2165, 2167, 2172, 2177, 2179, 2182, 2186, 2187, 2188, 2190, 2213, 2217, 2224, 2226, 2228, 2230, 2231, 2233, 2238, 2240, 2244, 2246, 2249, 2250, 2251, 2254, 2259, 2267, 2269, 2272, 2273, 2274, 2277, 2278, 2279, 2281, 2283, 2289, 2296, 2298, 2302, 2305, 2307, 2308, 2309, 2312, 2313, 2314, 2316, 2317, 2320, 2321, 2322, 2325, 2328, 2330, 2331, 2335, 2336, 2337, 2338, 2339, 2341, 2348, 2351, 2353, 2355, 2360, 2361, 2362, 2364, 2369, 2370, 2371, 2376, 2379, 2382, 2384, 2391, 2392, 2396, 2397, 2404, 2410, 2413, 2417, 2427, 2428, 2429, 2431, 2432, 2435, 2438, 2439, 2440, 2441, 2443, 2456, 2458, 2460, 2464, 2469, 2471, 2474, 2480, 2482, 2484, 2487, 2489, 2491, 2492, 2493, 2497, 2506, 2508, 2511, 2513, 2514, 2515, 2519, 2523, 2525, 2526, 2527, 2528, 2539, 2540, 2557, 2560, 2567, 2569, 2573, 2577, 2578, 2580, 2582, 2583, 2585, 2595, 2600, 2608, 2613, 2615, 2618, 2621, 2626, 2628, 2633, 2638, 2640, 2641, 2649, 2654, 2659, 2664, 2683, 2687, 2697, 2703, 2705, 2708, 2711, 2717, 2719, 2720, 2721, 2722, 2728, 2730, 2736, 2740, 2744, 2753, 2760, 2762, 2763, 2764, 2765, 2766, 2771, 2791, 2794, 2795, 2799, 2800, 2801, 2802, 2807, 2811, 2814, 2816, 2817, 2819, 2824, 2834, 2837, 2843, 2845, 2856, 2859, 2866, 2870, 2875, 2880, 2893, 2894, 2896, 2906, 2910, 2915, 2927, 2936, 2941, 2946, 2948, 2952, 2955, 2958, 2959, 2964, 2965, 2967, 2969, 2976, 2986, 2993, 3000, 3002, 3016, 3017, 3030, 3031, 3036, 3040, 3041, 3043, 3045, 3046, 3048, 3049, 3052, 3054, 3055, 3056, 3058, 3068, 3073, 3076, 3082, 3087, 3093, 3102, 3104, 3105, 3107, 3109, 3122, 3123, 3128, 3129, 3130, 3131, 3132, 3137, 3140, 3141, 3143, 3147, 3148, 3154, 3159, 3160, 3163, 3172, 3177, 3178, 3180, 3182, 3183, 3186, 3208, 3209, 3218, 3219, 3229, 3233, 3237, 3240, 3252, 3257, 3259, 3260, 3261, 3266, 3269, 3275, 3277, 3281, 3283, 3288, 3293, 3296, 3304, 3306, 3310, 3312, 3314, 3327, 3331, 3334, 3338, 3340, 3345, 3347, 3350, 3355, 3357, 3359, 3375, 3384, 3386, 3389, 3393, 3394, 3402, 3403, 3404, 3405, 3407, 3415, 3418, 3420, 3422, 3428, 3441, 3450, 3455, 3457, 3459, 3460, 3462, 3465, 3479, 3486, 3487, 3491, 3492, 3494, 3500, 3504, 3509, 3512, 3515, 3517, 3518, 3522, 3527, 3530, 3532, 3537, 3540, 3550, 3579, 3585, 3596, 3601, 3604, 3607, 3608, 3620, 3623, 3627, 3629, 3635, 3636, 3640, 3642, 3644, 3648, 3650, 3657, 3658, 3659, 3666, 3667, 3671, 3675, 3676, 3682, 3683, 3685, 3688, 3691, 3692, 3694, 3699, 3700, 3701, 3708, 3709, 3712, 3713, 3714, 3723, 3724, 3736, 3745, 3750, 3753, 3761, 3766, 3775, 3777, 3784, 3787, 3793, 3797, 3805, 3816, 3831, 3834, 3840, 3842, 3843, 3874, 3877, 3882, 3887, 3891, 3894, 3898, 3908, 3917, 3922, 3926, 3927, 3931, 3932, 3934, 3937, 3939, 3944, 3946, 3948, 3950, 3954, 3957, 3963, 3964, 3966, 3968, 3969, 3970, 3972, 3977, 3979, 3985, 3988, 3992, 3998, 4006, 4010, 4011, 4012, 4016, 4019, 4024, 4027, 4029, 4035, 4038, 4040, 4047, 4056, 4057, 4059, 4066, 4067, 4069, 4070, 4071, 4075, 4077, 4080, 4086, 4087, 4093, 4103, 4106, 4108, 4109, 4112, 4113, 4117, 4119, 4120, 4124, 4128, 4131, 4135, 4140, 4145, 4154, 4155, 4156, 4158, 4162, 4165, 4168, 4173, 4174, 4175, 4183, 4184, 4185, 4187, 4191, 4192, 4194, 4195, 4196, 4197, 4198, 4202, 4206, 4213, 4214, 4223, 4224, 4227, 4228, 4230, 4233, 4240, 4248, 4252, 4253, 4265, 4268, 4271, 4273, 4275, 4281, 4284, 4288, 4299, 4300, 4306, 4308, 4309, 4312, 4317, 4318, 4328, 4330, 4333, 4336, 4342, 4343, 4346, 4349, 4350, 4352, 4358, 4359, 4362, 4363, 4364, 4366, 4371, 4373, 4375, 4376, 4377, 4386, 4387, 4390, 4402, 4403, 4411, 4415, 4418, 4419, 4424, 4425, 4429, 4431, 4433, 4435, 4436, 4437, 4439, 4440, 4443, 4446, 4450, 4451, 4452, 4455, 4456, 4457, 4458, 4460, 4462, 4463, 4466, 4468, 4471, 4473, 4478, 4479, 4480, 4481, 4482, 4483, 4484, 4485, 4486, 4488, 4492, 4493, 4498, 4500, 4502, 4503, 4505, 4506, 4508, 4513, 4514, 4518, 4519, 4521, 4522, 4523, 4524, 4526, 4530, 4533, 4534, 4535, 4536, 4537, 4541, 4548, 4550, 4552, 4553, 4558, 4560, 4562, 4563, 4569, 4570, 4572, 4573, 4577, 4580, 4581, 4587, 4593, 4597, 4598, 4599, 4601, 4603, 4608, 4609, 4611, 4612, 4613, 4616, 4618, 4619, 4622, 4625, 4627, 4635, 4638, 4640, 4641, 4642, 4646, 4647, 4650, 4651, 4653, 4655, 4656, 4658, 4659, 4664, 4668, 4675, 4677, 4681, 4690, 4691, 4693, 4699, 4702, 4704, 4705, 4706, 4711, 4713, 4721, 4728, 4729, 4731, 4733, 4737, 4743, 4745, 4751, 4753, 4756, 4763, 4765, 4773, 4774, 4777, 4780, 4783, 4785, 4787, 4788, 4789, 4790, 4791, 4792, 4800, 4806, 4807, 4813, 4822, 4828, 4831, 4832, 4835, 4839, 4842, 4845, 4846, 4849, 4850, 4851, 4853, 4856, 4859, 4860, 4865, 4870, 4871, 4879, 4884, 4887, 4888, 4896, 4900, 4903, 4904, 4905, 4906, 4907, 4908, 4909, 4911, 4913, 4919, 4924, 4932, 4935, 4943, 4947, 4952, 4953, 4954, 4957, 4958, 4962, 4964, 4967, 4970, 4972, 4973, 4977, 4978, 4981, 4985, 4986, 4990, 4991, 4992, 4993, 4994, 4995, 4996, 5000, 5003, 5004, 5005, 5006, 5007, 5010, 5011, 5012, 5013, 5018, 5019, 5021, 5022, 5023, 5026, 5027, 5028, 5030, 5032, 5033, 5035, 5038, 5039, 5044, 5046, 5048, 5050, 5051, 5060, 5067, 5073, 5074, 5076, 5081, 5082, 5084, 5088, 5092, 5097, 5101, 5102, 5103, 5110, 5112, 5113, 5114, 5115, 5117, 5124, 5126, 5127, 5133, 5138, 5142, 5144, 5149, 5150, 5155, 5158, 5159, 5166, 5167, 5175, 5178, 5179, 5181, 5189, 5190, 5191, 5196, 5201, 5202, 5205, 5209, 5210, 5211, 5212, 5215, 5217, 5220, 5222, 5226, 5232, 5233, 5234, 5235, 5236, 5237, 5238, 5239, 5244, 5245, 5246, 5248, 5252, 5262, 5266, 5273, 5274, 5277, 5282, 5285, 5289, 5293, 5295, 5300, 5304, 5305, 5306, 5310, 5318, 5320, 5324, 5325, 5329, 5331, 5333, 5336, 5338, 5341, 5346, 5352, 5353, 5354, 5355, 5359, 5362, 5367, 5372, 5380, 5390, 5398, 5403, 5404, 5414, 5416, 5426, 5433, 5435, 5438, 5441, 5443, 5445, 5447, 5449, 5451, 5452, 5453, 5455, 5458, 5459, 5460, 5461, 5466, 5467, 5469, 5475, 5476, 5480, 5484, 5485, 5492, 5496, 5497, 5508, 5510, 5514, 5515, 5528, 5529, 5530, 5531, 5533, 5538, 5539, 5542, 5544, 5547, 5548, 5549, 5551, 5553, 5554, 5556, 5557, 5558, 5561, 5562, 5565, 5566, 5568, 5570, 5571, 5580, 5584, 5596, 5607, 5614, 5615, 5617, 5618, 5619, 5621, 5624, 5625, 5626, 5627, 5628, 5629, 5631, 5633, 5636, 5638, 5641, 5644, 5645, 5648, 5653, 5654, 5655, 5656, 5659, 5661, 5665, 5673, 5677, 5684, 5690, 5700, 5704, 5706, 5708, 5713, 5721, 5722, 5723, 5728, 5730, 5735, 5738, 5740, 5741, 5743, 5744, 5746, 5748, 5749, 5751, 5754, 5755, 5756, 5757, 5758, 5759, 5763, 5765, 5769, 5771, 5774, 5775, 5777, 5780, 5784, 5785, 5790, 5791, 5792, 5798, 5799, 5800, 5801, 5805, 5808, 5812, 5814, 5826, 5827, 5830, 5831, 5832, 5834, 5835, 5836, 5837, 5841, 5842, 5848, 5851, 5853, 5866, 5869, 5870, 5872, 5873, 5874, 5876, 5878, 5882, 5883, 5889, 5896, 5897, 5898, 5900, 5908, 5910, 5911, 5912, 5914, 5917, 5919, 5924, 5926, 5927, 5928, 5929, 5931, 5933, 5934, 5935, 5936, 5937, 5943, 5944, 5945, 5949, 5951, 5956, 5959, 5961, 5965, 5967, 5970, 5971, 5974, 5977, 5978, 5979, 5986, 5987, 5992, 5993, 5996, 6002, 6015, 6016, 6018, 6019, 6024, 6030, 6035, 6036, 6039, 6041, 6042, 6043, 6044, 6050, 6052, 6055, 6058, 6064, 6066, 6071, 6072, 6074, 6078, 6080, 6082, 6085, 6086, 6095, 6099, 6101, 6104, 6106, 6107, 6108, 6110, 6112, 6113, 6115, 6116, 6119, 6121, 6124, 6126, 6129, 6131, 6132, 6136, 6137, 6139, 6144, 6145, 6157, 6158, 6160, 6166, 6167, 6168, 6173, 6177, 6179, 6180, 6182, 6187, 6192, 6194, 6197, 6200, 6204, 6205, 6209, 6211, 6218, 6220, 6223, 6225, 6226, 6228, 6230, 6231, 6233, 6234, 6235, 6240, 6244, 6251, 6253, 6255, 6259, 6262, 6263, 6264, 6265, 6267, 6269, 6272, 6273, 6276, 6279, 6281, 6292, 6299, 6308, 6309, 6314, 6315, 6317, 6318, 6320, 6329, 6330, 6335, 6341, 6343, 6344, 6346, 6347, 6353, 6354, 6359, 6360, 6361, 6364, 6365, 6366, 6369, 6371, 6374, 6377, 6378, 6380, 6383, 6386, 6387, 6388, 6392, 6395, 6397, 6398, 6403, 6418, 6420, 6423, 6425, 6427, 6428, 6429, 6432, 6434, 6438, 6439, 6443, 6444, 6446, 6447, 6452, 6457, 6459, 6461, 6463, 6468, 6470, 6471, 6475, 6481, 6483, 6489, 6490, 6494, 6495, 6498, 6499, 6503, 6504, 6505, 6507, 6510, 6512, 6513, 6514, 6515, 6516, 6517, 6519, 6520, 6522, 6523, 6524, 6525, 6526, 6527, 6528, 6531, 6533, 6535, 6536, 6537, 6539, 6540, 6541, 6545, 6555, 6557, 6558, 6561, 6566, 6580, 6581, 6582, 6586, 6599, 6600, 6602, 6603, 6604, 6605, 6610, 6611, 6612, 6613, 6619, 6621, 6622, 6634, 6636, 6643, 6644, 6645, 6648, 6656, 6660, 6663, 6672, 6675, 6676, 6677, 6678, 6681, 6684, 6686, 6688, 6689, 6691, 6698, 6699, 6701, 6708, 6709, 6710, 6724, 6725, 6727, 6728, 6731, 6732, 6733, 6735, 6741, 6745, 6746, 6748, 6750, 6752, 6753, 6754, 6755, 6758, 6760, 6762, 6765, 6767, 6768, 6770, 6771, 6772, 6773, 6774, 6777, 6779, 6780, 6781, 6782, 6784, 6790, 6791, 6793, 6795, 6796, 6798, 6800, 6801, 6803, 6804, 6809, 6810, 6812, 6814, 6817, 6819, 6821, 6828, 6833, 6836, 6837, 6838, 6844, 6845, 6852, 6854, 6856, 6859, 6860, 6874, 6877, 6879, 6889, 6891, 6893, 6895, 6897, 6898, 6900, 6905, 6907, 6909, 6910, 6914, 6916, 6919, 6921, 6923, 6924, 6927, 6928, 6929, 6934, 6942, 6943, 6944, 6947, 6949, 6955, 6957, 6958, 6959, 6961, 6963, 6966, 6967, 6969, 6971, 6975, 6979, 6984, 6985, 6990, 6991, 6993, 6997, 6998, 6999, 7007, 7009, 7011, 7012, 7014, 7015, 7016, 7017, 7019, 7023, 7027, 7042, 7048, 7054, 7058, 7061, 7070, 7074, 7080, 7081, 7082, 7084, 7086, 7090, 7091, 7094, 7097, 7098, 7100, 7101, 7108, 7112, 7113, 7115, 7118, 7121, 7125, 7129, 7131, 7135, 7137, 7147, 7150, 7152, 7154, 7155, 7172, 7174, 7176, 7180, 7186, 7189, 7190, 7194, 7197, 7200, 7207, 7208, 7211, 7212, 7214, 7215, 7220, 7223, 7229, 7236, 7237, 7238, 7241, 7244, 7247, 7249, 7254, 7266, 7273, 7283, 7287, 7288, 7289, 7291, 7292, 7295, 7303, 7304, 7305, 7306, 7308, 7309, 7312, 7313, 7314, 7315, 7323, 7325, 7328, 7334, 7336, 7346, 7348, 7350, 7357, 7358, 7364, 7367, 7369, 7373, 7381, 7384, 7390, 7391, 7394, 7396, 7397, 7398, 7402, 7403, 7405, 7406, 7407, 7408, 7409, 7410, 7411, 7415, 7416, 7417, 7418, 7425, 7426, 7429, 7430, 7434, 7440, 7448, 7450, 7451, 7453, 7458, 7463, 7464, 7465, 7467, 7468, 7469, 7470, 7471, 7474, 7476, 7477, 7479, 7480, 7484, 7485, 7486, 7487, 7488, 7492, 7512, 7514, 7516, 7524, 7542, 7544, 7547, 7552, 7555, 7557, 7560, 7562, 7565, 7574, 7578, 7580, 7583, 7584, 7587, 7588, 7590, 7592, 7594, 7597, 7598, 7600, 7602, 7606, 7607, 7609, 7610, 7612, 7613, 7616, 7625, 7626, 7627, 7631, 7632, 7633, 7639, 7641, 7644, 7646, 7648, 7649, 7650, 7651, 7655, 7661, 7666, 7675, 7677, 7678, 7679, 7683, 7685, 7690, 7698, 7701, 7702, 7704, 7706, 7708, 7716, 7723, 7725, 7727, 7730, 7732, 7733, 7736, 7738, 7740, 7742, 7744, 7745, 7747, 7753, 7755, 7756, 7762, 7774, 7775, 7778, 7785, 7786, 7792, 7794, 7798, 7807, 7810, 7811, 7814, 7816, 7818, 7820, 7821, 7825, 7826, 7828, 7830, 7833, 7834, 7835, 7836, 7838, 7847, 7848, 7857, 7863, 7864, 7867, 7868, 7870, 7884, 7886, 7887, 7890, 7894, 7897, 7906, 7908, 7909, 7911, 7912, 7916, 7917, 7921, 7922, 7923, 7924, 7925, 7928, 7929, 7933, 7934, 7937, 7938, 7941, 7945, 7947, 7948, 7952, 7962, 7963, 7965, 7971, 7984, 7987, 7988, 7989, 7991, 7992, 7993, 7995, 7996, 7997, 7998, 7999, 8004, 8005, 8006, 8007, 8011, 8012, 8014, 8015, 8017, 8018, 8019, 8021, 8022, 8025, 8026, 8027, 8028, 8029, 8030, 8031, 8033, 8034, 8035, 8036, 8038, 8039, 8040, 8041, 8042, 8043, 8044, 8045, 8049, 8050, 8061, 8062, 8064, 8067, 8071, 8073, 8075, 8077, 8084, 8085, 8087, 8088, 8090, 8091, 8094, 8095, 8098, 8099, 8100, 8103, 8112, 8117, 8122, 8123, 8125, 8128, 8129, 8136, 8137, 8139, 8140, 8145, 8146, 8148, 8149, 8150, 8151, 8152, 8155, 8157, 8164, 8168, 8169, 8170, 8174, 8176, 8179, 8181, 8182, 8183, 8186, 8191, 8197, 8200, 8201, 8202, 8203, 8207, 8212, 8213, 8214, 8215, 8216, 8218, 8219, 8225, 8228, 8231, 8233, 8239, 8245, 8247, 8249, 8254, 8260, 8262, 8265, 8267, 8268, 8275, 8278, 8282, 8284, 8287, 8288, 8297, 8302, 8304, 8311, 8312, 8318, 8319, 8322, 8323, 8329, 8330, 8332, 8333, 8334, 8336, 8341, 8345, 8347, 8358, 8366, 8369, 8373, 8375, 8376, 8377, 8383, 8385, 8388, 8399, 8400, 8401, 8403, 8404, 8406, 8408, 8411, 8415, 8417, 8418, 8419, 8420, 8425, 8426, 8428, 8433, 8435, 8437, 8438, 8452, 8462, 8465, 8470, 8472, 8473, 8476, 8477, 8483, 8486, 8487, 8489, 8491, 8492, 8494, 8496, 8499, 8504, 8508, 8518, 8520, 8523, 8524, 8527, 8528, 8535, 8536, 8542, 8545, 8546, 8547, 8548, 8549, 8550, 8554, 8555, 8558, 8562, 8563, 8564, 8565, 8567, 8568, 8573, 8575, 8580, 8581, 8582, 8584, 8588, 8589, 8590, 8592, 8593, 8594, 8596, 8598, 8601, 8607, 8610, 8614, 8615, 8616, 8623, 8624, 8625, 8626, 8629, 8634, 8638, 8640, 8645, 8648, 8649, 8650, 8653, 8661, 8663, 8664, 8666, 8668, 8673, 8683, 8684, 8687, 8708, 8710, 8718, 8722, 8723, 8725, 8726, 8727, 8729, 8730, 8732, 8734, 8737, 8739, 8740, 8741, 8743, 8744, 8746, 8747, 8751, 8754, 8755, 8759, 8767, 8786, 8787, 8792, 8798, 8803, 8804, 8810, 8815, 8819, 8821, 8824, 8825, 8828, 8829, 8830, 8832, 8834, 8835, 8837, 8842, 8844, 8848, 8850, 8852, 8854, 8858, 8859, 8863, 8864, 8865, 8867, 8868, 8872, 8873, 8875, 8881, 8882, 8890, 8891, 8906, 8908, 8919, 8923, 8927, 8928, 8932, 8933, 8939, 8945, 8948, 8950, 8955, 8956, 8964, 8967, 8970, 8974, 8975, 8978, 8982, 8985, 8989, 8991, 8993, 8998, 8999, 9007, 9008, 9010, 9011, 9014, 9017, 9021, 9026, 9027, 9028, 9033, 9037, 9038, 9045, 9048, 9054, 9055, 9056, 9057, 9058, 9061, 9065, 9066, 9067, 9069, 9079, 9080, 9093, 9096, 9098, 9103, 9105, 9108, 9109, 9112, 9114, 9115, 9116, 9135, 9136, 9138, 9145, 9151, 9152, 9154, 9164, 9165, 9169, 9171, 9172, 9173, 9180, 9181, 9182, 9183, 9199, 9202, 9203, 9205, 9206, 9207, 9211, 9212, 9213, 9218, 9219, 9220, 9225, 9226, 9227, 9229, 9230, 9232, 9234, 9236, 9244, 9250, 9254, 9257, 9263, 9269, 9270, 9272, 9273, 9274, 9275, 9276, 9277, 9283, 9284, 9287, 9288, 9289, 9290, 9291, 9292, 9293, 9294, 9295, 9303, 9306, 9316, 9317, 9325, 9326, 9328, 9332, 9334, 9336, 9338, 9340, 9343, 9347, 9348, 9349, 9352, 9353, 9357, 9358, 9359, 9364, 9369, 9371, 9372, 9379, 9383, 9384, 9386, 9388, 9389, 9390, 9394, 9397, 9400, 9401, 9402, 9404, 9411, 9412, 9413, 9416, 9420, 9425, 9426, 9427, 9432, 9433, 9434, 9435, 9442, 9447, 9452, 9456, 9457, 9462, 9470, 9472, 9473, 9475, 9477, 9480, 9482, 9484, 9490, 9494, 9496, 9498, 9499, 9501, 9503, 9505, 9507, 9509, 9510, 9512, 9513, 9515, 9523, 9532, 9534, 9536, 9541, 9549, 9552, 9564, 9566, 9569, 9571, 9574, 9580, 9581, 9588, 9589, 9592, 9594, 9602, 9604, 9609, 9613, 9616, 9617, 9619, 9626, 9633, 9634, 9635, 9639, 9646, 9652, 9654, 9656, 9664, 9667, 9679, 9681, 9692, 9694, 9699, 9705, 9707, 9710, 9713, 9718, 9719, 9720, 9721, 9722, 9723, 9724, 9725, 9726, 9728, 9729, 9731, 9742, 9746, 9751, 9752, 9755, 9758, 9767, 9775, 9781, 9783, 9786, 9787, 9789, 9791, 9792, 9795, 9796, 9797, 9803, 9805, 9808, 9809, 9812, 9816, 9819, 9820, 9821, 9828, 9831, 9834, 9844, 9854, 9866, 9867, 9869, 9876, 9884, 9885, 9886, 9887, 9889, 9890, 9891, 9893, 9897, 9898, 9902, 9904, 9908, 9909, 9911, 9914, 9915, 9920, 9922, 9929, 9930, 9942, 9946, 9947, 9948, 9950, 9955, 9959, 9961, 9962, 9963, 9964, 9969, 9970, 9973, 9974, 9984, 9989, 9993, 9998, 10002, 10005, 10007, 10014, 10019, 10024, 10028, 10032, 10033, 10036, 10038, 10039, 10040, 10041, 10042, 10043, 10046, 10047, 10050, 10051, 10052, 10054, 10055, 10056, 10057, 10058, 10059, 10061, 10066, 10067, 10068, 10072, 10074, 10075, 10077, 10078, 10079, 10080, 10082, 10085, 10091, 10092, 10096, 10097, 10102, 10104, 10106, 10109, 10112, 10114, 10115, 10116, 10120, 10121, 10126, 10130, 10132, 10133, 10134, 10135, 10136, 10137, 10141, 10142, 10143, 10144, 10145, 10146, 10148, 10149, 10152, 10153, 10155, 10156, 10157, 10160, 10162, 10163, 10165, 10167, 10184, 10186, 10188, 10194, 10197, 10199, 10201, 10212, 10215, 10216, 10218, 10219, 10220, 10221, 10224, 10225, 10230, 10231, 10232, 10234, 10236, 10240, 10252, 10255, 10257, 10258, 10259, 10262, 10263, 10266, 10267, 10268, 10269, 10270, 10271, 10278, 10282, 10284, 10287, 10288, 10290, 10291, 10292, 10293, 10294, 10296, 10297, 10298, 10299, 10302, 10304, 10306, 10307, 10309, 10310, 10312, 10315, 10322, 10324, 10328, 10329, 10330, 10332, 10334, 10342, 10343, 10347, 10351, 10352, 10361, 10365, 10372, 10375, 10381, 10384, 10385, 10388, 10389, 10391, 10393, 10394, 10395, 10409, 10411, 10424, 10425, 10430, 10436, 10440, 10442, 10443, 10444, 10445, 10446, 10448, 10451, 10454, 10458, 10459, 10460, 10461, 10465, 10467, 10470, 10473, 10474, 10475, 10480, 10484, 10487, 10488, 10491, 10492, 10498, 10503, 10508, 10511, 10513, 10516, 10518, 10519, 10523, 10531, 10540, 10552, 10553, 10554, 10556, 10566, 10568, 10569, 10570, 10573, 10581, 10582, 10583, 10586, 10590, 10592, 10594, 10595, 10599, 10600, 10607, 10610, 10612, 10614, 10620, 10625, 10627, 10628, 10630, 10634, 10635, 10636, 10639, 10641, 10643, 10650, 10651, 10661, 10662, 10664, 10666, 10667, 10668, 10669, 10670, 10674, 10675, 10677, 10678, 10681, 10683, 10686, 10687, 10688, 10690, 10691, 10697, 10699, 10703, 10705, 10717, 10718, 10719, 10720, 10724, 10725, 10727, 10730, 10732, 10733, 10735, 10738, 10740, 10741, 10742, 10744, 10745, 10749, 10750, 10751, 10753, 10754, 10757, 10762, 10763, 10770, 10772, 10774, 10775, 10776, 10779, 10782, 10785, 10786, 10791, 10794, 10797, 10798, 10800, 10801, 10802, 10804, 10808, 10810, 10811, 10814, 10817, 10818, 10822, 10824, 10830, 10832, 10833, 10838], 'Current Ver': [7, 28, 30, 50, 79, 81, 98, 111, 113, 122, 153, 155, 160, 169, 173, 174, 175, 182, 194, 205, 215, 216, 243, 247, 248, 254, 255, 293, 311, 321, 339, 346, 347, 350, 352, 356, 360, 362, 366, 368, 372, 378, 379, 380, 383, 384, 387, 395, 398, 405, 415, 416, 419, 420, 424, 427, 429, 438, 441, 457, 471, 483, 486, 492, 517, 518, 521, 541, 552, 559, 566, 576, 606, 607, 609, 614, 616, 618, 634, 636, 640, 648, 659, 662, 663, 679, 686, 688, 689, 692, 717, 730, 735, 765, 767, 796, 800, 802, 808, 811, 812, 817, 820, 835, 877, 883, 892, 902, 918, 922, 925, 928, 929, 949, 953, 956, 973, 974, 997, 999, 1004, 1011, 1020, 1027, 1036, 1039, 1050, 1052, 1053, 1059, 1073, 1076, 1083, 1088, 1092, 1119, 1135, 1150, 1154, 1156, 1162, 1163, 1165, 1167, 1168, 1170, 1171, 1175, 1178, 1193, 1195, 1207, 1225, 1235, 1249, 1251, 1253, 1273, 1288, 1298, 1299, 1300, 1308, 1314, 1315, 1318, 1320, 1321, 1325, 1326, 1329, 1330, 1331, 1355, 1356, 1365, 1368, 1379, 1380, 1392, 1403, 1427, 1435, 1440, 1446, 1449, 1452, 1459, 1461, 1466, 1475, 1476, 1522, 1525, 1529, 1537, 1545, 1550, 1555, 1557, 1565, 1566, 1568, 1576, 1577, 1579, 1580, 1583, 1584, 1595, 1599, 1600, 1613, 1617, 1634, 1635, 1638, 1639, 1670, 1673, 1680, 1708, 1712, 1740, 1752, 1758, 1818, 1827, 1851, 1856, 1876, 1877, 1879, 1893, 1903, 1905, 1912, 1941, 1951, 1965, 1975, 1988, 1990, 1994, 2034, 2043, 2046, 2060, 2067, 2075, 2079, 2081, 2084, 2100, 2104, 2123, 2131, 2138, 2155, 2169, 2171, 2180, 2225, 2230, 2237, 2238, 2239, 2244, 2250, 2251, 2253, 2259, 2261, 2269, 2270, 2277, 2297, 2317, 2320, 2322, 2343, 2374, 2412, 2430, 2433, 2436, 2455, 2461, 2462, 2478, 2483, 2487, 2493, 2500, 2509, 2530, 2536, 2541, 2572, 2577, 2590, 2602, 2607, 2609, 2631, 2633, 2637, 2654, 2659, 2664, 2666, 2667, 2673, 2675, 2689, 2694, 2700, 2702, 2713, 2717, 2718, 2721, 2728, 2734, 2741, 2746, 2753, 2760, 2763, 2764, 2787, 2801, 2806, 2807, 2816, 2823, 2826, 2835, 2846, 2859, 2862, 2877, 2878, 2879, 2893, 2907, 2908, 2910, 2911, 2937, 2938, 2943, 2949, 2958, 2964, 2965, 2970, 2978, 2989, 2996, 2997, 3002, 3005, 3038, 3040, 3044, 3049, 3054, 3055, 3058, 3073, 3076, 3086, 3087, 3092, 3093, 3095, 3102, 3105, 3113, 3120, 3121, 3129, 3135, 3139, 3143, 3144, 3145, 3149, 3153, 3157, 3159, 3161, 3163, 3171, 3172, 3177, 3180, 3190, 3193, 3201, 3218, 3224, 3225, 3231, 3247, 3254, 3257, 3261, 3262, 3274, 3278, 3279, 3280, 3281, 3303, 3312, 3316, 3319, 3334, 3344, 3347, 3370, 3377, 3387, 3388, 3390, 3392, 3395, 3412, 3429, 3430, 3431, 3432, 3433, 3434, 3450, 3456, 3459, 3462, 3465, 3485, 3486, 3500, 3501, 3504, 3505, 3516, 3522, 3527, 3529, 3530, 3531, 3532, 3539, 3550, 3584, 3590, 3613, 3618, 3622, 3623, 3631, 3634, 3637, 3640, 3642, 3643, 3657, 3660, 3669, 3676, 3679, 3688, 3694, 3700, 3708, 3712, 3717, 3726, 3727, 3730, 3732, 3738, 3740, 3741, 3742, 3745, 3752, 3776, 3777, 3789, 3793, 3794, 3812, 3823, 3826, 3828, 3836, 3840, 3848, 3849, 3857, 3866, 3867, 3871, 3877, 3878, 3883, 3900, 3902, 3913, 3922, 3926, 3934, 3945, 3946, 3948, 3963, 3967, 3973, 3975, 3986, 3995, 3997, 4020, 4033, 4050, 4052, 4062, 4063, 4075, 4086, 4106, 4119, 4124, 4138, 4172, 4174, 4175, 4185, 4199, 4201, 4212, 4239, 4262, 4284, 4285, 4288, 4295, 4304, 4305, 4314, 4324, 4328, 4337, 4338, 4344, 4369, 4374, 4381, 4383, 4403, 4422, 4432, 4436, 4444, 4448, 4479, 4480, 4559, 4577, 4587, 4588, 4607, 4615, 4618, 4628, 4633, 4669, 4682, 4688, 4703, 4706, 4720, 4746, 4751, 4763, 4787, 4808, 4912, 4916, 4918, 4920, 4923, 4936, 4937, 4939, 4955, 4966, 4984, 5023, 5034, 5044, 5050, 5083, 5087, 5097, 5107, 5124, 5131, 5132, 5134, 5135, 5136, 5139, 5140, 5141, 5145, 5148, 5151, 5152, 5153, 5154, 5156, 5157, 5160, 5161, 5162, 5164, 5165, 5168, 5170, 5172, 5173, 5174, 5176, 5177, 5182, 5184, 5189, 5191, 5192, 5201, 5206, 5214, 5223, 5245, 5279, 5287, 5294, 5303, 5318, 5328, 5353, 5371, 5390, 5400, 5407, 5449, 5460, 5483, 5505, 5544, 5548, 5574, 5575, 5578, 5580, 5601, 5604, 5675, 5712, 5718, 5719, 5761, 5776, 5777, 5799, 5852, 5864, 5889, 5897, 5898, 5899, 5902, 5907, 5930, 5949, 5973, 5974, 5975, 5993, 6003, 6007, 6009, 6018, 6026, 6054, 6063, 6064, 6067, 6079, 6080, 6131, 6132, 6133, 6165, 6175, 6276, 6278, 6302, 6303, 6323, 6331, 6339, 6352, 6370, 6435, 6442, 6504, 6550, 6551, 6562, 6615, 6620, 6632, 6635, 6637, 6641, 6642, 6651, 6669, 6702, 6704, 6740, 6762, 6833, 6856, 6866, 6869, 6870, 6876, 6883, 6886, 6918, 6961, 6971, 7010, 7045, 7060, 7064, 7089, 7094, 7099, 7115, 7130, 7141, 7157, 7159, 7163, 7171, 7177, 7182, 7188, 7199, 7284, 7287, 7288, 7289, 7292, 7295, 7298, 7299, 7301, 7314, 7315, 7317, 7319, 7323, 7329, 7334, 7336, 7343, 7345, 7350, 7353, 7365, 7382, 7383, 7409, 7435, 7446, 7483, 7484, 7497, 7504, 7550, 7590, 7597, 7623, 7625, 7646, 7693, 7699, 7712, 7752, 7783, 7839, 7888, 7897, 7919, 7922, 7924, 7934, 7944, 7955, 7956, 7979, 8036, 8038, 8041, 8061, 8067, 8070, 8072, 8088, 8089, 8101, 8104, 8113, 8138, 8149, 8261, 8288, 8289, 8296, 8297, 8310, 8313, 8314, 8322, 8332, 8346, 8352, 8361, 8363, 8364, 8370, 8382, 8385, 8387, 8420, 8436, 8445, 8446, 8450, 8460, 8465, 8490, 8511, 8517, 8523, 8527, 8567, 8593, 8613, 8616, 8627, 8640, 8652, 8669, 8700, 8702, 8705, 8707, 8747, 8807, 8836, 8837, 8847, 8851, 8876, 8887, 8889, 8901, 8906, 8912, 8916, 8917, 8935, 8941, 8943, 8956, 8971, 8980, 9001, 9002, 9071, 9098, 9112, 9117, 9126, 9143, 9145, 9147, 9181, 9184, 9193, 9195, 9214, 9219, 9221, 9225, 9233, 9237, 9240, 9262, 9288, 9297, 9301, 9314, 9318, 9336, 9352, 9357, 9366, 9377, 9386, 9424, 9442, 9446, 9487, 9490, 9499, 9544, 9564, 9573, 9574, 9583, 9588, 9595, 9599, 9614, 9615, 9628, 9629, 9635, 9637, 9638, 9642, 9680, 9694, 9711, 9734, 9736, 9737, 9762, 9772, 9841, 9856, 9859, 9870, 9873, 9881, 9886, 9901, 9922, 9943, 9946, 10003, 10039, 10068, 10071, 10072, 10078, 10091, 10102, 10105, 10115, 10130, 10143, 10156, 10161, 10163, 10191, 10193, 10197, 10203, 10205, 10206, 10208, 10218, 10234, 10239, 10250, 10258, 10262, 10268, 10273, 10275, 10276, 10277, 10279, 10293, 10312, 10314, 10333, 10374, 10376, 10381, 10424, 10473, 10516, 10517, 10547, 10553, 10573, 10588, 10589, 10596, 10599, 10604, 10622, 10643, 10680, 10687, 10718, 10731, 10732, 10739, 10756, 10764, 10773, 10780, 10800, 10815, 10832]}\n",
      "Z-Score Outliers: {'Rating': [477, 518, 520, 527, 611, 625, 663, 2260, 2295, 2317, 2403, 2487, 2492, 3972, 4006, 4010, 4127, 4161, 4230, 4253, 4375, 4492, 4498, 4509, 4522, 4651, 4657, 4669, 4726, 4728, 4787, 4828, 4904, 4905, 4906, 4910, 4912, 4925, 4926, 4935, 4995, 5039, 5048, 5102, 5151, 5173, 5216, 5514, 5580, 5604, 5662, 5710, 5712, 5736, 5770, 5908, 5913, 5914, 5941, 5949, 5978, 5995, 6008, 6099, 6112, 6121, 6127, 6133, 6135, 6141, 6168, 6201, 6248, 6249, 6308, 6319, 6379, 6490, 6532, 6582, 6602, 6619, 6620, 6622, 6640, 6663, 6685, 6716, 6765, 6790, 6812, 6884, 6923, 6948, 6961, 7016, 7070, 7088, 7103, 7126, 7144, 7242, 7254, 7266, 7286, 7383, 7413, 7416, 7427, 7483, 7511, 7512, 7518, 7633, 7636, 7658, 7677, 7722, 7746, 7758, 7789, 7806, 7838, 7852, 7863, 7912, 7914, 7926, 7966, 7978, 7990, 7991, 8131, 8216, 8221, 8229, 8258, 8365, 8387, 8422, 8474, 8478, 8553, 8569, 8589, 8592, 8609, 8716, 8820, 8826, 8838, 8857, 8859, 8875, 8881, 8932, 8933, 8936, 8946, 8951, 8976, 8979, 9011, 9155, 9176, 9204, 9283, 9327, 9415, 9443, 9649, 9711, 9800, 9890, 9895, 9946, 10041, 10043, 10076, 10077, 10082, 10137, 10149, 10157, 10324, 10397, 10400, 10424, 10428, 10458, 10562, 10578, 10591, 10677, 10757], 'Reviews': [335, 336, 338, 342, 378, 382, 385, 391, 403, 406, 411, 420, 467, 1654, 1655, 1660, 1662, 1670, 1675, 1689, 1694, 1697, 1700, 1702, 1703, 1705, 1710, 1721, 1722, 1739, 1750, 1755, 1764, 1842, 1844, 1869, 1871, 1872, 1878, 1879, 1885, 1890, 1893, 1902, 1908, 1909, 1932, 1970, 1977, 2050, 2544, 2545, 2546, 2550, 2603, 2604, 2610, 2808, 2853, 2884, 3117, 3223, 3239, 3665, 3739, 3870, 3879, 3888, 3896, 3904, 3908, 3909, 3910, 3928, 3943, 3953, 3975, 3986, 3987, 3994, 3996, 4005, 4017, 4036, 4056, 4098, 4105, 4115, 4122, 4568, 4676, 4688, 5395, 6449, 7536, 7937, 8894, 8896], 'Size': [728, 748, 1055, 1080, 1312, 1345, 1522, 1531, 1565, 1660, 1670, 1680, 1687, 1697, 1709, 1710, 1713, 1714, 1721, 1740, 1758, 1764, 1765, 1781, 1789, 1791, 1793, 1795, 1800, 1801, 1805, 1809, 1812, 1816, 1820, 1823, 1825, 1827, 1828, 1834, 1849, 1851, 1853, 1855, 1859, 1860, 1863, 1878, 1879, 1889, 1890, 1893, 1897, 1905, 1927, 1928, 1932, 1958, 1978, 1988, 1990, 2007, 2038, 2045, 2064, 2068, 2069, 2096, 2098, 2105, 2118, 2119, 2124, 2146, 2148, 2185, 2187, 2230, 2284, 2299, 2349, 2519, 2607, 2609, 2702, 3027, 3031, 3054, 3141, 3580, 3582, 3586, 3714, 3874, 3883, 3908, 3910, 3912, 3931, 3937, 3963, 3973, 3975, 3986, 3987, 4043, 4073, 4168, 4184, 4249, 4261, 4268, 4327, 4339, 4404, 4515, 4536, 4559, 4581, 4594, 4690, 4692, 4783, 4798, 4799, 4801, 4806, 4807, 4816, 4817, 4833, 4835, 4837, 4842, 4856, 4859, 4860, 4861, 4901, 5158, 5195, 5261, 5277, 5350, 5408, 5417, 5419, 5427, 5429, 5430, 5489, 5530, 5535, 5540, 5541, 5553, 5562, 5589, 5595, 5616, 5641, 5642, 5691, 5702, 5860, 5862, 5865, 5948, 6079, 6179, 6181, 6301, 6384, 6439, 6551, 6566, 6676, 6698, 6701, 6720, 6726, 6745, 6811, 6824, 6873, 6876, 7042, 7087, 7322, 7404, 7408, 7415, 7421, 7429, 7515, 7595, 7602, 7608, 7611, 7630, 7631, 7801, 7825, 7900, 7937, 8020, 8045, 8250, 8255, 8259, 8261, 8268, 8272, 8296, 8409, 8426, 8429, 8433, 8451, 8460, 8462, 8474, 8553, 8573, 8624, 8748, 8760, 8764, 8835, 8847, 8860, 8863, 8917, 9156, 9159, 9165, 9168, 9170, 9210, 9348, 9353, 9359, 9382, 9409, 9440, 9533, 9583, 9614, 9671, 9677, 9758, 9762, 9773, 9854, 9855, 9946, 10005, 10021, 10032, 10060, 10100, 10192, 10271, 10345, 10394, 10396, 10507, 10588, 10784], 'Installs': [152, 335, 336, 338, 340, 341, 342, 347, 371, 378, 382, 383, 385, 386, 391, 403, 411, 420, 451, 464, 467, 865, 1654, 1655, 1661, 1662, 1700, 1702, 1705, 1722, 1729, 1750, 1842, 1869, 1872, 1885, 1886, 1908, 1920, 2544, 2545, 2546, 2550, 2554, 2603, 2604, 2610, 2808, 2853, 2884, 3117, 3127, 3223, 3232, 3234, 3235, 3255, 3265, 3326, 3450, 3454, 3473, 3476, 3522, 3523, 3533, 3562, 3569, 3574, 3665, 3687, 3703, 3711, 3736, 3739, 3755, 3816, 3819, 3870, 3879, 3888, 3896, 3904, 3907, 3909, 3928, 3934, 3943, 3994, 3996, 4005, 4041, 4048, 4098, 4105, 4115, 4122, 4144, 4147, 4150, 4153, 4170, 4365, 4566, 4676, 5395, 5596, 5856, 7536, 9844], 'Price': [2253, 2390, 4197, 4362, 4367, 5351, 5354, 5355, 5356, 5357, 5358, 5359, 5362, 5364, 5366, 5369, 5373, 6624, 6692, 9719, 9730, 9917, 9934], 'Android Ver': [133, 144, 173, 200, 225, 722, 1532, 1542, 1544, 1547, 1553, 1575, 2279, 2382, 2391, 2484, 2824, 3240, 3252, 3259, 3261, 3266, 3275, 3407, 3691, 3692, 3927, 4173, 4197, 4288, 4364, 4403, 4411, 4456, 4458, 4460, 4466, 4468, 4541, 4577, 4646, 4721, 4791, 4846, 4986, 5126, 5144, 5190, 5362, 5475, 5515, 5528, 5538, 5539, 5547, 5549, 5551, 5553, 5556, 5557, 5558, 5562, 5565, 5566, 5568, 5570, 5722, 5933, 6428, 6503, 6505, 6507, 6510, 6512, 6514, 6515, 6517, 6520, 6522, 6523, 6524, 6525, 6526, 6527, 6531, 6533, 6535, 6536, 6537, 6539, 6540, 6541, 6582, 6648, 6750, 6768, 6770, 6796, 6798, 6803, 6943, 6944, 7080, 7091, 7129, 7152, 7211, 7223, 7237, 7384, 7405, 7410, 7430, 7479, 7574, 7578, 7661, 7747, 7834, 7897, 7993, 7997, 8022, 8084, 8098, 8112, 8137, 8139, 8140, 8145, 8150, 8151, 8267, 8284, 8312, 8318, 8616, 8650, 8787, 8825, 8830, 8919, 8928, 9008, 9045, 9116, 9212, 9220, 9420, 9490, 9566, 9571, 9679, 9781, 9796, 9805, 9820, 9908, 10036, 10041, 10042, 10046, 10047, 10050, 10051, 10052, 10057, 10066, 10067, 10282, 10297, 10299, 10445, 10459, 10461, 10630, 10650, 10651, 10661, 10662, 10664, 10668, 10669, 10674, 10690, 10733, 10751, 10763, 10830], 'Current Ver': [5023]}\n"
     ]
    }
   ],
   "source": [
    "import pandas as pd  \n",
    "import numpy as np  \n",
    "import matplotlib.pyplot as plt  \n",
    "import seaborn as sns  \n",
    "\n",
    "def detect_outliers_iqr(df, columns):  \n",
    "    outliers_dict = {}  \n",
    "    for col in columns:  \n",
    "        Q1 = df[col].quantile(0.25)  \n",
    "        Q3 = df[col].quantile(0.75)  \n",
    "        IQR = Q3 - Q1    \n",
    "        lower_bound = Q1 - 1.5 * IQR  \n",
    "        upper_bound = Q3 + 1.5 * IQR    \n",
    "        outliers = df[(df[col] < lower_bound) | (df[col] > upper_bound)]   \n",
    "        outliers_dict[col] = outliers.index.tolist()  \n",
    "    return outliers_dict  \n",
    "\n",
    "\n",
    "def detect_outliers_zscore(df, columns, threshold=3):   \n",
    "    outliers_dict = {}  \n",
    "    for col in columns:  \n",
    "        z_scores = (df[col] - df[col].mean()) / df[col].std()  \n",
    "        outliers = df[(z_scores > threshold) | (z_scores < -threshold)]  \n",
    "        outliers_dict[col] = outliers.index.tolist()  \n",
    "    return outliers_dict  \n",
    "\n",
    "\n",
    "def plot_outliers(df, columns):  \n",
    "    for col in columns:  \n",
    "        plt.figure(figsize=(10, 4))  \n",
    "        sns.boxplot(x=df[col])  \n",
    "        plt.title(f'Box plot for {col}')  \n",
    "        plt.show()  \n",
    "\n",
    "\n",
    "# Example usage  \n",
    "def main(df, numeric_columns):  \n",
    "    iqr_outliers = detect_outliers_iqr(df, numeric_columns)  \n",
    "    zscore_outliers = detect_outliers_zscore(df, numeric_columns)  \n",
    "    plot_outliers(df, numeric_columns)  \n",
    "\n",
    "    return iqr_outliers, zscore_outliers  \n",
    "\n",
    "\n",
    "# Assuming 'df' is your DataFrame and 'numeric_columns' is a list of relevant column names  \n",
    "iqr_outliers, zscore_outliers = main(df, numeric_columns)  \n",
    "\n",
    "print(f'IQR Outliers: {iqr_outliers}')  \n",
    "print(f'Z-Score Outliers: {zscore_outliers}')  "
   ]
  },
  {
   "cell_type": "markdown",
   "id": "5f8ce292-874e-4328-b5dc-0b2dc035310f",
   "metadata": {},
   "source": [
    "**Analytical Questions:"
   ]
  },
  {
   "cell_type": "markdown",
   "id": "2b794bd3-d7b8-486b-9a6d-291887c17a2d",
   "metadata": {},
   "source": [
    "**1. What is the most expensive app on the Play Store?"
   ]
  },
  {
   "cell_type": "code",
   "execution_count": 58,
   "id": "1d276a6f-2755-4132-9e96-dae682c07506",
   "metadata": {},
   "outputs": [
    {
     "data": {
      "text/plain": [
       "400.0"
      ]
     },
     "execution_count": 58,
     "metadata": {},
     "output_type": "execute_result"
    }
   ],
   "source": [
    "df['Price'].max()"
   ]
  },
  {
   "cell_type": "markdown",
   "id": "a02b2976-4d74-4114-a7eb-302b08603882",
   "metadata": {},
   "source": [
    "**2. Which genre has the highest number of apps?"
   ]
  },
  {
   "cell_type": "code",
   "execution_count": 123,
   "id": "2102db28-631b-4c9d-8873-bcc146041275",
   "metadata": {},
   "outputs": [
    {
     "name": "stdout",
     "output_type": "stream",
     "text": [
      "The genre with the highest number of apps is 'Tools' with 842 apps.\n",
      "The genre with the highest total installs is 'Communication' with 24152276251.0 installs.\n"
     ]
    }
   ],
   "source": [
    " \n",
    "genre_counts = df['Genres'].value_counts()   \n",
    "installs_per_genre = df.groupby('Genres', observed=True)['Installs'].sum()   \n",
    "highest_genre = genre_counts.idxmax()  \n",
    "highest_genre_count = genre_counts.max()   \n",
    "highest_installs_genre = installs_per_genre.idxmax()  \n",
    "highest_installs_count = installs_per_genre.max()    \n",
    "print(f\"The genre with the highest number of apps is '{highest_genre}' with {highest_genre_count} apps.\")  \n",
    "print(f\"The genre with the highest total installs is '{highest_installs_genre}' with {highest_installs_count} installs.\")  "
   ]
  },
  {
   "cell_type": "markdown",
   "id": "c7791102-89c0-4f4f-bf0d-35895f97d839",
   "metadata": {},
   "source": [
    "**3. What is the average size of free vs. paid apps?"
   ]
  },
  {
   "cell_type": "code",
   "execution_count": 132,
   "id": "3e090d11-5df4-4433-9372-de8971886d4e",
   "metadata": {},
   "outputs": [
    {
     "name": "stdout",
     "output_type": "stream",
     "text": [
      "   Type          Size\n",
      "0  Free  2.018694e+07\n",
      "1  Paid  1.853216e+07\n"
     ]
    }
   ],
   "source": [
    "average_size = df.groupby('Type')['Size'].mean().reset_index()  \n",
    "average_size['Type'] = average_size['Type'].replace({0: 'Free', 1: 'Paid'})  \n",
    "print(average_size)  "
   ]
  },
  {
   "cell_type": "markdown",
   "id": "66e6c06b-bea9-401d-86f7-cfb0b5975888",
   "metadata": {},
   "source": [
    "**4.What are the top 5 most expensive apps with a perfect rating (5)?"
   ]
  },
  {
   "cell_type": "code",
   "execution_count": 137,
   "id": "e5f4817a-0310-4806-8271-8468e4d6cc1b",
   "metadata": {},
   "outputs": [
    {
     "name": "stdout",
     "output_type": "stream",
     "text": [
      "                                            App  Price  Rating\n",
      "5489                  ap art history flashcards  29.99     5.0\n",
      "7477                 usmle step 2 ck flashcards  19.99     5.0\n",
      "5246                      hey aj! it's bedtime!   4.99     5.0\n",
      "5482                 mestudying: ap english lit   4.99     5.0\n",
      "7204  ti-84 ce graphing calculator manual ti 84   4.99     5.0\n"
     ]
    }
   ],
   "source": [
    "perfect_rating_apps = df[df['Rating'] == 5]    \n",
    "most_expensive_perfect_apps = perfect_rating_apps.sort_values(by='Price', ascending=False)   \n",
    "top_5_expensive = most_expensive_perfect_apps.head(5)  \n",
    "print(top_5_expensive[['App', 'Price', 'Rating']])"
   ]
  },
  {
   "cell_type": "markdown",
   "id": "8ae6c437-fbfb-4444-b9a8-bd792f37f3dc",
   "metadata": {},
   "source": [
    "**5. How many apps have received more than 50K reviews?"
   ]
  },
  {
   "cell_type": "code",
   "execution_count": 161,
   "id": "28c9fe26-516d-4a7f-ac32-717bbbb25750",
   "metadata": {},
   "outputs": [
    {
     "name": "stdout",
     "output_type": "stream",
     "text": [
      "2525\n"
     ]
    }
   ],
   "source": [
    "Top_reviews_apps = (df['Reviews'] > 50000).sum()\n",
    "print(Top_reviews_apps)"
   ]
  },
  {
   "cell_type": "markdown",
   "id": "d5d35a01-4c73-4429-a757-2c4c605422e2",
   "metadata": {},
   "source": [
    "**6. What is the average price of apps, grouped by genre and number of installs?"
   ]
  },
  {
   "cell_type": "code",
   "execution_count": 176,
   "id": "f8856fe0-76a4-4921-b9c8-76429440e3de",
   "metadata": {},
   "outputs": [
    {
     "name": "stdout",
     "output_type": "stream",
     "text": [
      "     Genres    Installs     Price\n",
      "0    Action        10.0  0.000000\n",
      "1    Action        50.0  0.663333\n",
      "2    Action       100.0  1.096000\n",
      "3    Action       500.0  0.000000\n",
      "4    Action      1000.0  0.372500\n",
      "..      ...         ...       ...\n",
      "917    Word    100000.0  0.000000\n",
      "918    Word   1000000.0  0.000000\n",
      "919    Word   5000000.0  0.000000\n",
      "920    Word  10000000.0  0.000000\n",
      "921    Word  50000000.0  0.000000\n",
      "\n",
      "[922 rows x 3 columns]\n"
     ]
    }
   ],
   "source": [
    "average_price = df.groupby(['Genres', 'Installs'], observed=True)['Price'].mean().reset_index()   \n",
    "print(average_price)  "
   ]
  },
  {
   "cell_type": "markdown",
   "id": "c93b741b-95ef-4117-b976-c0e3cb233116",
   "metadata": {},
   "source": [
    "**7. How many apps have a rating higher than 4.7, and what is their average price?"
   ]
  },
  {
   "cell_type": "code",
   "execution_count": 181,
   "id": "3ef91054-14fc-4db4-81cb-eee39242be77",
   "metadata": {},
   "outputs": [
    {
     "name": "stdout",
     "output_type": "stream",
     "text": [
      "Number of apps with a rating higher than 4.7: 586\n",
      "Average price of apps with a rating higher than 4.7: $0.46\n"
     ]
    }
   ],
   "source": [
    "high_rating_apps = df[df['Rating'] > 4.7]   \n",
    "count_high_rating_apps = high_rating_apps.shape[0]   \n",
    "average_price_high_rating = high_rating_apps['Price'].mean()   \n",
    "print(f\"Number of apps with a rating higher than 4.7: {count_high_rating_apps}\")  \n",
    "print(f\"Average price of apps with a rating higher than 4.7: ${average_price_high_rating:.2f}\") "
   ]
  },
  {
   "cell_type": "markdown",
   "id": "d74f9c28-2310-4a11-9094-3b453f1c76b3",
   "metadata": {},
   "source": [
    "**8. What is Google&#39;s estimated revenue from apps with 5,000,000+ installs?\n",
    "(Assuming Google takes a 30% cut from app sales)"
   ]
  },
  {
   "cell_type": "code",
   "execution_count": 187,
   "id": "16ddb779-8538-4252-9b5e-fc7287ab6927",
   "metadata": {},
   "outputs": [
    {
     "name": "stdout",
     "output_type": "stream",
     "text": [
      "Estimated Google's revenue from apps with 5,000,000+ installs: $44910000.00\n"
     ]
    }
   ],
   "source": [
    "high_install_apps = df[df['Installs'] >= 5000000]   \n",
    "total_revenue = (high_install_apps['Price'] * high_install_apps['Installs']).sum()    \n",
    "google_revenue = total_revenue * 0.3    \n",
    "print(f\"Estimated Google's revenue from apps with 5,000,000+ installs: ${google_revenue:.2f}\") "
   ]
  },
  {
   "cell_type": "markdown",
   "id": "ae26f5c4-494e-4da2-ad19-61cb0d2890e1",
   "metadata": {},
   "source": [
    "**9. What are the maximum and minimum sizes of free vs. paid apps?"
   ]
  },
  {
   "cell_type": "code",
   "execution_count": 195,
   "id": "5c0599d6-f6a4-4d9b-9eac-dea8b24b098d",
   "metadata": {},
   "outputs": [
    {
     "name": "stdout",
     "output_type": "stream",
     "text": [
      "  Category          max      min\n",
      "0     Free  100000000.0   1000.0\n",
      "1     Paid  100000000.0  14000.0\n"
     ]
    }
   ],
   "source": [
    "df['Category'] = df['Price'].apply(lambda x: 'Free' if x == 0.00 else 'Paid')  \n",
    "size_stats = df.groupby('Category')['Size'].agg(['max', 'min']).reset_index()  \n",
    "print(size_stats)  "
   ]
  },
  {
   "cell_type": "markdown",
   "id": "060a447e-e898-4c20-b1f3-3a7b0a087647",
   "metadata": {},
   "source": [
    "**10. Is there a correlation between an app’s rating, number of reviews, size, and its price?"
   ]
  },
  {
   "cell_type": "code",
   "execution_count": 201,
   "id": "637e582d-9700-4ef7-90c1-064ce96ef120",
   "metadata": {},
   "outputs": [
    {
     "name": "stdout",
     "output_type": "stream",
     "text": [
      "           Rating   Reviews      Size     Price\n",
      "Rating   1.000000  0.063462  0.052682 -0.019710\n",
      "Reviews  0.063462  1.000000  0.107827 -0.009416\n",
      "Size     0.052682  0.107827  1.000000 -0.020528\n",
      "Price   -0.019710 -0.009416 -0.020528  1.000000\n"
     ]
    },
    {
     "data": {
      "image/png": "[encoded data removed]",
      "text/plain": [
       "<Figure size 800x600 with 2 Axes>"
      ]
     },
     "metadata": {},
     "output_type": "display_data"
    }
   ],
   "source": [
    "df['Reviews'] = df['Reviews'].astype(float)  \n",
    "df['Size'] = df['Size'].astype(float)  \n",
    "df['Price'] = df['Price'].astype(float)   \n",
    "correlation_matrix = df[['Rating', 'Reviews', 'Size', 'Price']].corr()   \n",
    "print(correlation_matrix)   \n",
    "plt.figure(figsize=(8, 6))  \n",
    "sns.heatmap(correlation_matrix, annot=True, cmap='coolwarm', fmt='.2f')  \n",
    "plt.title('Correlation Matrix')  \n",
    "plt.show()  "
   ]
  },
  {
   "cell_type": "markdown",
   "id": "a892a6e9-475c-4a76-85ac-68d5194bce40",
   "metadata": {},
   "source": [
    "**11. How many apps exist for each type (free/paid) across different content ratings?"
   ]
  },
  {
   "cell_type": "code",
   "execution_count": 218,
   "id": "93a02ef3-e24f-4cec-b5d4-bbf306856018",
   "metadata": {},
   "outputs": [
    {
     "name": "stdout",
     "output_type": "stream",
     "text": [
      "Type            Free  Paid\n",
      "Content Rating            \n",
      " 5                 3     0\n",
      " 1              7720   662\n",
      " 2               345    32\n",
      " 4               428    19\n",
      " 3              1094    52\n",
      "-1                 1     0\n",
      " 0                 2     0\n"
     ]
    }
   ],
   "source": [
    "df['Type'] = df['Price'].apply(lambda x: 'Free' if x == 0.00 else 'Paid')    \n",
    "app_counts = df.groupby(['Content Rating', 'Type'] ,observed = True).size().unstack(fill_value=0)  \n",
    "print(app_counts) "
   ]
  },
  {
   "cell_type": "markdown",
   "id": "417dadde-ace3-4235-8fe9-5fcd1eb2e393",
   "metadata": {},
   "source": [
    "**12. How many apps are compatible with Android version 4.x?"
   ]
  },
  {
   "cell_type": "code",
   "execution_count": 227,
   "id": "dd9d3fe5-9c94-4e2f-b561-0959dfd8e9ab",
   "metadata": {},
   "outputs": [
    {
     "name": "stdout",
     "output_type": "stream",
     "text": [
      "Number of apps compatible with Android version 4.x: 8213\n"
     ]
    }
   ],
   "source": [
    "compatible_apps = df[(df['Android Ver'] >= 4.0) & (df['Android Ver'] < 5.0)]   \n",
    "compatible_count = compatible_apps.shape[0]    \n",
    "print(f\"Number of apps compatible with Android version 4.x: {compatible_count}\")  "
   ]
  }
 ],
 "metadata": {
  "kernelspec": {
   "display_name": "Python 3 (ipykernel)",
   "language": "python",
   "name": "python3"
  },
  "language_info": {
   "codemirror_mode": {
    "name": "ipython",
    "version": 3
   },
   "file_extension": ".py",
   "mimetype": "text/x-python",
   "name": "python",
   "nbconvert_exporter": "python",
   "pygments_lexer": "ipython3",
   "version": "3.12.4"
  }
 },
 "nbformat": 4,
 "nbformat_minor": 5
}
