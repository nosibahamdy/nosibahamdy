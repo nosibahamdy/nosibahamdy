{
 "cells": [
  {
   "cell_type": "code",
   "execution_count": 1,
   "id": "582cf6b8-e780-42c6-b2ec-adfd7c3f6e73",
   "metadata": {},
   "outputs": [],
   "source": [
    "#importing Numpy library\n",
    "import numpy as np"
   ]
  },
  {
   "cell_type": "code",
   "execution_count": 3,
   "id": "1199677c-15ed-4d9b-839e-0e18c15b3b84",
   "metadata": {},
   "outputs": [
    {
     "name": "stdout",
     "output_type": "stream",
     "text": [
      "[1 2 3 4 5]\n"
     ]
    }
   ],
   "source": [
    "# creating one-dimensional Numpy array arr from a Python list\n",
    "arr = np.array([1,2,3,4,5])\n",
    "print(arr)"
   ]
  },
  {
   "cell_type": "code",
   "execution_count": 11,
   "id": "e2d926dd-77ce-4004-9d1c-84a15d18be82",
   "metadata": {},
   "outputs": [
    {
     "name": "stdout",
     "output_type": "stream",
     "text": [
      "3D Array : \n",
      " [[[250 300 400]\n",
      "  [200 250 350]]\n",
      "\n",
      " [[260 310 410]\n",
      "  [210 260 360]]\n",
      "\n",
      " [[270 320 420]\n",
      "  [220 270 370]]\n",
      "\n",
      " [[280 330 430]\n",
      "  [230 280 380]]]\n",
      "Shape:  (4, 2, 3)\n"
     ]
    }
   ],
   "source": [
    "# Create a 3D NumPy array representing weekly sales data from a list of lists .  \n",
    "# The dimensions of the array are structured as follows:  \n",
    "# - The three dimension represents different weeks (1st week to 4th week).  \n",
    "sales_data = np.array([[[250,300,400],[200,250,350]],[[260,310,410],[210,260,360]],[[270,320,420],[220,270,370]],[[280,330,430],[230,280,380]]])\n",
    "print(\"3D Array : \\n\" , sales_data)\n",
    "print(\"Shape: \" , sales_data.shape)"
   ]
  },
  {
   "cell_type": "code",
   "execution_count": 15,
   "id": "d00b3fea-b934-45ae-8e77-d0f0556fff2c",
   "metadata": {},
   "outputs": [
    {
     "name": "stdout",
     "output_type": "stream",
     "text": [
      "[[1 2 3]\n",
      " [4 5 6]]\n"
     ]
    }
   ],
   "source": [
    "# create a two-dimensional Numpy array arr1 from a list of two lists.\n",
    "arr1 = np.array([[1,2,3],[4,5,6]])\n",
    "print(arr1)"
   ]
  },
  {
   "cell_type": "code",
   "execution_count": 19,
   "id": "e3115aa1-087f-4730-b196-1cd6d668fb0f",
   "metadata": {},
   "outputs": [
    {
     "name": "stdout",
     "output_type": "stream",
     "text": [
      "[[0. 0. 0.]\n",
      " [0. 0. 0.]]\n"
     ]
    }
   ],
   "source": [
    "# create a two-dimensional Numpy array zeros from a list of two lists with default value of zero.\n",
    "zeros = np.zeros((2,3))\n",
    "print(zeros)"
   ]
  },
  {
   "cell_type": "code",
   "execution_count": 23,
   "id": "98b90fbb-a9e8-41a9-bc16-2003204bc5cb",
   "metadata": {},
   "outputs": [
    {
     "name": "stdout",
     "output_type": "stream",
     "text": [
      "[[1. 1.]\n",
      " [1. 1.]\n",
      " [1. 1.]]\n"
     ]
    }
   ],
   "source": [
    "# create a three-dimensional Numpy array ones from a list of three lists with default value of one.\n",
    "ones = np.ones((3,2))\n",
    "print(ones)"
   ]
  },
  {
   "cell_type": "code",
   "execution_count": 27,
   "id": "41a70a49-0b34-410e-8174-254020bd1504",
   "metadata": {},
   "outputs": [
    {
     "name": "stdout",
     "output_type": "stream",
     "text": [
      "[0 1 2 3 4 5 6 7 8 9]\n"
     ]
    }
   ],
   "source": [
    "# create a one-dimensional array of integers from 0 to 9 using np.arange().\n",
    "range_array = np.arange(10)\n",
    "print(range_array)"
   ]
  },
  {
   "cell_type": "code",
   "execution_count": 31,
   "id": "52aa1dae-f891-4bb5-8c55-35af268fcbdc",
   "metadata": {},
   "outputs": [
    {
     "name": "stdout",
     "output_type": "stream",
     "text": [
      "[0 2 4 6 8]\n"
     ]
    }
   ],
   "source": [
    "#create an array with values starting from 0 up to (but not including) 10, with a step size of 2.\n",
    "range_step = np.arange(0,10,2)\n",
    "print(range_step)"
   ]
  },
  {
   "cell_type": "code",
   "execution_count": 37,
   "id": "c6a549a4-4e01-4741-bfed-4d7a403ffd10",
   "metadata": {},
   "outputs": [
    {
     "name": "stdout",
     "output_type": "stream",
     "text": [
      "[0.   0.25 0.5  0.75 1.  ]\n"
     ]
    }
   ],
   "source": [
    "#generating a sequence of five numbers over a specified interval from 0 to 1.\n",
    "linespace_array = np.linspace(0,1,5)\n",
    "print(linespace_array)"
   ]
  },
  {
   "cell_type": "code",
   "execution_count": 41,
   "id": "6a7a9dfe-09da-44f3-901c-bf57ae31fa94",
   "metadata": {},
   "outputs": [
    {
     "name": "stdout",
     "output_type": "stream",
     "text": [
      "[[0.28936965 0.9080998  0.36836677]\n",
      " [0.93689009 0.49433902 0.11628099]\n",
      " [0.51270097 0.44319565 0.27984416]]\n"
     ]
    }
   ],
   "source": [
    "#Creating an Array with Random Values Between 0 and 1\n",
    "random_array = np.random.rand(3,3)\n",
    "print(random_array)"
   ]
  },
  {
   "cell_type": "code",
   "execution_count": 45,
   "id": "fca39fe4-9a07-4769-bff0-cd5c5017ef07",
   "metadata": {},
   "outputs": [
    {
     "name": "stdout",
     "output_type": "stream",
     "text": [
      "[[9 9]\n",
      " [4 3]]\n"
     ]
    }
   ],
   "source": [
    "#create a 2x2 array with random integers between 1 and 9\n",
    "random_integers = np.random.randint(1,10,(2,2))\n",
    "print(random_integers)"
   ]
  },
  {
   "cell_type": "code",
   "execution_count": 47,
   "id": "455eec13-4e18-4886-a7e7-2e289967ccfd",
   "metadata": {},
   "outputs": [
    {
     "name": "stdout",
     "output_type": "stream",
     "text": [
      "(2, 3)\n"
     ]
    }
   ],
   "source": [
    "arrr = np.array([[1,2,3],[4,5,6]])\n",
    "print(arrr.shape)#return the shape of the array, showing it has 2 rows and 3 columns"
   ]
  },
  {
   "cell_type": "code",
   "execution_count": 49,
   "id": "4a09c1c5-ec4c-48ec-ae56-b77201302f76",
   "metadata": {},
   "outputs": [
    {
     "name": "stdout",
     "output_type": "stream",
     "text": [
      "int32\n"
     ]
    }
   ],
   "source": [
    "print(arrr.dtype)#check the data type of elements in the array, showing that they are 32-bit integers."
   ]
  },
  {
   "cell_type": "code",
   "execution_count": 53,
   "id": "12da0159-0ed3-4023-bacb-2437f14de33d",
   "metadata": {},
   "outputs": [
    {
     "name": "stdout",
     "output_type": "stream",
     "text": [
      "10\n",
      "50\n"
     ]
    }
   ],
   "source": [
    "#accesses elements in the array by their index. \n",
    "array = np.array([10,20,30,40,50])\n",
    "print(array[0])\n",
    "print(array[-1])"
   ]
  },
  {
   "cell_type": "code",
   "execution_count": 57,
   "id": "39d21bf7-1e2d-43f4-99f7-42c6452368d8",
   "metadata": {},
   "outputs": [
    {
     "name": "stdout",
     "output_type": "stream",
     "text": [
      "[20 30 40]\n"
     ]
    }
   ],
   "source": [
    "#slices the array to get a subarray from index 1 to 3. \n",
    "print(array[1:4])"
   ]
  },
  {
   "cell_type": "code",
   "execution_count": 69,
   "id": "4b8997fe-dadc-435f-87e8-07f4e766d3eb",
   "metadata": {},
   "outputs": [
    {
     "name": "stdout",
     "output_type": "stream",
     "text": [
      "the matrix : \n",
      " [[ 5 10 20]\n",
      " [20 25 30]\n",
      " [35 40 10]] \n",
      "\n",
      "the second row of matrix : \n",
      "  [20 25 30] \n",
      "\n",
      "the third element of the third row is : \n",
      " 10\n"
     ]
    }
   ],
   "source": [
    "#indexing 2D Array \n",
    "mat = np.array(([5,10,20],[20,25,30],[35,40,10]))\n",
    "print(\"the matrix : \\n\",mat,\"\\n\")\n",
    "print(\"the second row of matrix : \\n \",mat[1],\"\\n\")\n",
    "print(\"the third element of the third row is : \\n\", mat[2][2])"
   ]
  },
  {
   "cell_type": "code",
   "execution_count": null,
   "id": "377b7ac6-c03d-486b-b485-da2c7c6bfd1b",
   "metadata": {},
   "outputs": [],
   "source": []
  }
 ],
 "metadata": {
  "kernelspec": {
   "display_name": "Python 3 (ipykernel)",
   "language": "python",
   "name": "python3"
  },
  "language_info": {
   "codemirror_mode": {
    "name": "ipython",
    "version": 3
   },
   "file_extension": ".py",
   "mimetype": "text/x-python",
   "name": "python",
   "nbconvert_exporter": "python",
   "pygments_lexer": "ipython3",
   "version": "3.12.4"
  }
 },
 "nbformat": 4,
 "nbformat_minor": 5
}
